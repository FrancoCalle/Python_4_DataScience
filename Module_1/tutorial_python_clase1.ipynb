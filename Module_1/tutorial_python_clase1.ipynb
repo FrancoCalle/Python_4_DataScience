{
 "cells": [
  {
   "cell_type": "markdown",
   "metadata": {},
   "source": [
    "# Python para Economistas: Primera Clase\n",
    "\n",
    "#### 1. Values y variable names\n",
    "\n",
    "    En python es importante distinguir entre valores y nombres de variables. \n",
    "    Los valores más básicos con los que se puede trabajar en python son integers (enteros), floats (fracciones) y strings (texto).\n"
   ]
  },
  {
   "cell_type": "code",
   "execution_count": 4,
   "metadata": {},
   "outputs": [
    {
     "name": "stdout",
     "output_type": "stream",
     "text": [
      "Franco Calle\n"
     ]
    }
   ],
   "source": [
    "\"Franco Calle\"  #String"
   ]
  },
  {
   "cell_type": "code",
   "execution_count": 2,
   "metadata": {},
   "outputs": [
    {
     "data": {
      "text/plain": [
       "1"
      ]
     },
     "execution_count": 2,
     "metadata": {},
     "output_type": "execute_result"
    }
   ],
   "source": [
    "1 #Integer"
   ]
  },
  {
   "cell_type": "code",
   "execution_count": 3,
   "metadata": {},
   "outputs": [
    {
     "data": {
      "text/plain": [
       "2.0"
      ]
     },
     "execution_count": 3,
     "metadata": {},
     "output_type": "execute_result"
    }
   ],
   "source": [
    "2. #Float"
   ]
  },
  {
   "cell_type": "markdown",
   "metadata": {},
   "source": [
    "    A estos valores usulamente queremos asignarle un nombre (variable name) para luego referirnos a el en siguientes operaciones. En el siguiente ejemplo nombramos el valor string \"Franco Calle\" como \"nombre\". Luego usamos la función print para revelar o imprimir que es lo que contiene 'nombre'."
   ]
  },
  {
   "cell_type": "code",
   "execution_count": 6,
   "metadata": {},
   "outputs": [
    {
     "name": "stdout",
     "output_type": "stream",
     "text": [
      "Franco Calle\n"
     ]
    }
   ],
   "source": [
    "firstName = \"Franco\"\n",
    "lastName  = \"Calle\"\n",
    "\n",
    "print(firstName, lastName)"
   ]
  },
  {
   "cell_type": "markdown",
   "metadata": {},
   "source": [
    "#### 2. Operaciones con strings\n",
    "\n",
    "    Podemos además llamar las variables que creamos y hacer operaciones con ellas. En el siguiente ejemplo juntamos strings."
   ]
  },
  {
   "cell_type": "code",
   "execution_count": 7,
   "metadata": {},
   "outputs": [
    {
     "name": "stdout",
     "output_type": "stream",
     "text": [
      "Franco Calle\n"
     ]
    }
   ],
   "source": [
    "fullName = firstName + ' ' + lastName\n",
    "\n",
    "print(fullName)"
   ]
  },
  {
   "cell_type": "markdown",
   "metadata": {},
   "source": [
    "#### 3. Numeros y operaciones con numeros:\n",
    "    Así mismo podemos realizar operaciones con integers floats y otros objetos. Esto se puede realizar sin la necesidad de asignarles un nombre de variable, en este caso la operacion crea un objeto temporal que es visualizado en el kernel."
   ]
  },
  {
   "cell_type": "code",
   "execution_count": 8,
   "metadata": {},
   "outputs": [
    {
     "name": "stdout",
     "output_type": "stream",
     "text": [
      "3 3 1 6 2.0 16 1 2 4.5 True False\n"
     ]
    }
   ],
   "source": [
    "print(\n",
    "    3,\n",
    "    1+2,\n",
    "    2-1,\n",
    "    2*3,\n",
    "    4/2,\n",
    "    4**2,\n",
    "    4%3,\n",
    "    5//2,\n",
    "    4.5, # Float:\n",
    "    True,\n",
    "    False)"
   ]
  },
  {
   "cell_type": "code",
   "execution_count": 11,
   "metadata": {},
   "outputs": [
    {
     "data": {
      "text/plain": [
       "4.0"
      ]
     },
     "execution_count": 11,
     "metadata": {},
     "output_type": "execute_result"
    }
   ],
   "source": [
    "4."
   ]
  },
  {
   "cell_type": "markdown",
   "metadata": {},
   "source": [
    "#### 4. Tipos de objetos:\n",
    "    Python te permite examinar el tipo de elemento con la funcion type(). Los tipos más basicos son int, float, str y bool."
   ]
  },
  {
   "cell_type": "code",
   "execution_count": 12,
   "metadata": {},
   "outputs": [
    {
     "data": {
      "text/plain": [
       "int"
      ]
     },
     "execution_count": 12,
     "metadata": {},
     "output_type": "execute_result"
    }
   ],
   "source": [
    "type(3)"
   ]
  },
  {
   "cell_type": "code",
   "execution_count": 13,
   "metadata": {},
   "outputs": [
    {
     "data": {
      "text/plain": [
       "float"
      ]
     },
     "execution_count": 13,
     "metadata": {},
     "output_type": "execute_result"
    }
   ],
   "source": [
    "type(3.)"
   ]
  },
  {
   "cell_type": "code",
   "execution_count": 14,
   "metadata": {},
   "outputs": [
    {
     "data": {
      "text/plain": [
       "str"
      ]
     },
     "execution_count": 14,
     "metadata": {},
     "output_type": "execute_result"
    }
   ],
   "source": [
    "type(\"3.\")"
   ]
  },
  {
   "cell_type": "code",
   "execution_count": 15,
   "metadata": {},
   "outputs": [
    {
     "data": {
      "text/plain": [
       "bool"
      ]
     },
     "execution_count": 15,
     "metadata": {},
     "output_type": "execute_result"
    }
   ],
   "source": [
    "type(True)"
   ]
  },
  {
   "cell_type": "markdown",
   "metadata": {},
   "source": [
    "#### 5. Cambio de tipo de elementos\n",
    "    Es posible además cambiar de tipo los elementos que querramos. Por ejemplo cambiar float a int para ahorrar memoria ram. "
   ]
  },
  {
   "cell_type": "code",
   "execution_count": 22,
   "metadata": {},
   "outputs": [
    {
     "data": {
      "text/plain": [
       "4"
      ]
     },
     "execution_count": 22,
     "metadata": {},
     "output_type": "execute_result"
    }
   ],
   "source": [
    "int(4.51)"
   ]
  },
  {
   "cell_type": "code",
   "execution_count": 17,
   "metadata": {},
   "outputs": [
    {
     "data": {
      "text/plain": [
       "1"
      ]
     },
     "execution_count": 17,
     "metadata": {},
     "output_type": "execute_result"
    }
   ],
   "source": [
    "int(True)"
   ]
  },
  {
   "cell_type": "code",
   "execution_count": 18,
   "metadata": {},
   "outputs": [
    {
     "data": {
      "text/plain": [
       "0"
      ]
     },
     "execution_count": 18,
     "metadata": {},
     "output_type": "execute_result"
    }
   ],
   "source": [
    "int(False)"
   ]
  },
  {
   "cell_type": "code",
   "execution_count": 19,
   "metadata": {},
   "outputs": [
    {
     "data": {
      "text/plain": [
       "1.0"
      ]
     },
     "execution_count": 19,
     "metadata": {},
     "output_type": "execute_result"
    }
   ],
   "source": [
    "float(True)"
   ]
  },
  {
   "cell_type": "code",
   "execution_count": 20,
   "metadata": {},
   "outputs": [
    {
     "data": {
      "text/plain": [
       "3.0"
      ]
     },
     "execution_count": 20,
     "metadata": {},
     "output_type": "execute_result"
    }
   ],
   "source": [
    "float(3)"
   ]
  },
  {
   "cell_type": "markdown",
   "metadata": {},
   "source": [
    "    Cambiar de tipo un objeto en el caso de números es dinstinto a redondearlos. Para redondearlos matemáticamente usamos la función round()."
   ]
  },
  {
   "cell_type": "code",
   "execution_count": 24,
   "metadata": {},
   "outputs": [
    {
     "name": "stdout",
     "output_type": "stream",
     "text": [
      "5 4\n"
     ]
    }
   ],
   "source": [
    "print('%s %s' % (round(4.51), int(4.51)))"
   ]
  },
  {
   "cell_type": "markdown",
   "metadata": {},
   "source": [
    "#### 6. Redondear Numeros y otras operaciones :\n",
    "\n",
    "    También podemos aplicar distintas funciones básicas predetermidas en python para ejecutar operaciones en numeros."
   ]
  },
  {
   "cell_type": "code",
   "execution_count": 25,
   "metadata": {},
   "outputs": [
    {
     "data": {
      "text/plain": [
       "2"
      ]
     },
     "execution_count": 25,
     "metadata": {},
     "output_type": "execute_result"
    }
   ],
   "source": [
    "abs(-2)    #Valor absoluto"
   ]
  },
  {
   "cell_type": "code",
   "execution_count": 26,
   "metadata": {},
   "outputs": [
    {
     "name": "stdout",
     "output_type": "stream",
     "text": [
      "5 4\n"
     ]
    }
   ],
   "source": [
    "round(4.5)\n",
    "round(4.51)\n",
    "print('%s %s' % (round(4.51), int(4.51))) # Redondear"
   ]
  },
  {
   "cell_type": "code",
   "execution_count": 27,
   "metadata": {},
   "outputs": [
    {
     "data": {
      "text/plain": [
       "(2, 1)"
      ]
     },
     "execution_count": 27,
     "metadata": {},
     "output_type": "execute_result"
    }
   ],
   "source": [
    "divmod(9,4) #Coeficiente y residuo"
   ]
  },
  {
   "cell_type": "code",
   "execution_count": 28,
   "metadata": {},
   "outputs": [
    {
     "data": {
      "text/plain": [
       "16"
      ]
     },
     "execution_count": 28,
     "metadata": {},
     "output_type": "execute_result"
    }
   ],
   "source": [
    "pow(4,2)"
   ]
  },
  {
   "cell_type": "markdown",
   "metadata": {},
   "source": [
    "#### 7. Pedir insumos al usuario:\n",
    "    Podemos pedir a python que interactue con  el usuario. En este python pide al usuario que introduzca un numero."
   ]
  },
  {
   "cell_type": "code",
   "execution_count": 29,
   "metadata": {},
   "outputs": [
    {
     "name": "stdout",
     "output_type": "stream",
     "text": [
      "Dime un numero bello214\n",
      "214\n"
     ]
    }
   ],
   "source": [
    "beautiful_number  = input(\"Dime un numero bello\")\n",
    "print(beautiful_number)"
   ]
  },
  {
   "cell_type": "markdown",
   "metadata": {},
   "source": [
    "#### 9. Listas y strings:\n",
    "\n",
    "    Las listas son colecciones de elementos del mismo o distinto tipo de manera ordenada, las listas por lo general se introducen entre brackets [obj1, obj2]. En este caso, los strings tambien son listas donde cada caracter en el string es un elemento de la lista."
   ]
  },
  {
   "cell_type": "code",
   "execution_count": 30,
   "metadata": {},
   "outputs": [
    {
     "data": {
      "text/plain": [
       "[1, 2, 3, 4]"
      ]
     },
     "execution_count": 30,
     "metadata": {},
     "output_type": "execute_result"
    }
   ],
   "source": [
    "[1,2,3,4]"
   ]
  },
  {
   "cell_type": "code",
   "execution_count": 32,
   "metadata": {},
   "outputs": [
    {
     "data": {
      "text/plain": [
       "['I', 'N', 'F', 'O', 'X']"
      ]
     },
     "execution_count": 32,
     "metadata": {},
     "output_type": "execute_result"
    }
   ],
   "source": [
    "nombre = 'INFOX'\n",
    "list(nombre)"
   ]
  },
  {
   "cell_type": "markdown",
   "metadata": {},
   "source": [
    "    Podemos multiplicar la lista y crear repeticiones."
   ]
  },
  {
   "cell_type": "code",
   "execution_count": 33,
   "metadata": {},
   "outputs": [
    {
     "data": {
      "text/plain": [
       "[1, 1, 1, 1, 1]"
      ]
     },
     "execution_count": 33,
     "metadata": {},
     "output_type": "execute_result"
    }
   ],
   "source": [
    "[1] * 5"
   ]
  },
  {
   "cell_type": "code",
   "execution_count": 34,
   "metadata": {},
   "outputs": [
    {
     "name": "stdout",
     "output_type": "stream",
     "text": [
      "aaaaa\n"
     ]
    }
   ],
   "source": [
    "print(\"a\" * 5)"
   ]
  },
  {
   "cell_type": "markdown",
   "metadata": {},
   "source": [
    "#### 10. Indexando y cortando listas: \n",
    "    Es posible además indexar y cortar una lista. Cuando hablamos de indexar una lista -de tamaño N- básicamente lo que hacemos es quedarnos con el elemento número i de la lista, donde i es el orden que va de 0 hasta N."
   ]
  },
  {
   "cell_type": "code",
   "execution_count": 38,
   "metadata": {},
   "outputs": [
    {
     "name": "stdout",
     "output_type": "stream",
     "text": [
      "1. Franco Calle\n",
      "2. F\n",
      "3. ranco\n",
      "4. Franco\n",
      "5. Franco\n",
      "6. o\n",
      "7. Franco Calle\n"
     ]
    }
   ],
   "source": [
    "print('1.',fullName)\n",
    "print('2.',fullName[0])\n",
    "print('3.',fullName[1:6])\n",
    "print('4.',fullName[0:6])\n",
    "print('5.',fullName[:6])\n",
    "print('6.',fullName[0:6][-1])\n",
    "print('7.',fullName[:])"
   ]
  },
  {
   "cell_type": "markdown",
   "metadata": {},
   "source": [
    "    Además podemos dividir un string en función de algun caracter en el string, en este caso dividiremos el string en cada espacio con la función split(). En la funcion introducimos el caracter que hara la división del string varios substrings."
   ]
  },
  {
   "cell_type": "code",
   "execution_count": 39,
   "metadata": {},
   "outputs": [
    {
     "name": "stdout",
     "output_type": "stream",
     "text": [
      "['I', 'am', 'learning', 'Python'] ['I', 'am learning Python']\n"
     ]
    }
   ],
   "source": [
    "str0 = 'I am learning Python'\n",
    "\n",
    "#Separar Strings\n",
    "str1 = str0.split(' ')\n",
    "str2 = str0.split(' ', maxsplit=1)\n",
    "print(str1, str2)"
   ]
  },
  {
   "cell_type": "markdown",
   "metadata": {},
   "source": [
    "    Es posible además unir strings."
   ]
  },
  {
   "cell_type": "code",
   "execution_count": 40,
   "metadata": {},
   "outputs": [
    {
     "name": "stdout",
     "output_type": "stream",
     "text": [
      "Carne, Pollo, Cerdo, Pescado\n"
     ]
    }
   ],
   "source": [
    "proteinasList = ['Carne', 'Pollo', 'Cerdo', 'Pescado']\n",
    "proteinas = ', '.join(proteinasList)\n",
    "print(proteinas)"
   ]
  },
  {
   "cell_type": "code",
   "execution_count": 41,
   "metadata": {},
   "outputs": [
    {
     "data": {
      "text/plain": [
       "'CARNE, POLLO, CERDO, PESCADO'"
      ]
     },
     "execution_count": 41,
     "metadata": {},
     "output_type": "execute_result"
    }
   ],
   "source": [
    "proteinas.upper() # Cambiar string a mayusculas"
   ]
  },
  {
   "cell_type": "code",
   "execution_count": 42,
   "metadata": {},
   "outputs": [
    {
     "data": {
      "text/plain": [
       "'carne, pollo, cerdo, pescado'"
      ]
     },
     "execution_count": 42,
     "metadata": {},
     "output_type": "execute_result"
    }
   ],
   "source": [
    "proteinas.lower() # Cambiar string a minusculas"
   ]
  },
  {
   "cell_type": "markdown",
   "metadata": {},
   "source": [
    "    Formateando Strings"
   ]
  },
  {
   "cell_type": "code",
   "execution_count": 45,
   "metadata": {},
   "outputs": [
    {
     "name": "stdout",
     "output_type": "stream",
     "text": [
      "2\n",
      "2 1\n"
     ]
    }
   ],
   "source": [
    "#numbers = '%s, %s' % ('one', 'two')\n",
    "#print(numbers)\n",
    "#numbers = '%i, %i' % (1, 2)\n",
    "#print(numbers)\n",
    "#numbers = '%f, %f' % (1, 2)\n",
    "#print(numbers)\n",
    "\n",
    "print('{}'.format(2))\n",
    "print('{1} {0}'.format(1,2))"
   ]
  },
  {
   "cell_type": "markdown",
   "metadata": {},
   "source": [
    "#### 11. Mas operaciones:\n"
   ]
  },
  {
   "cell_type": "code",
   "execution_count": 51,
   "metadata": {},
   "outputs": [
    {
     "name": "stdout",
     "output_type": "stream",
     "text": [
      "1.0\n"
     ]
    }
   ],
   "source": [
    "import math\n",
    "\n",
    "pi = math.pi\n",
    "eps = math.e\n",
    "sq4 = math.sqrt(4)\n",
    "math.exp(2)\n",
    "math.log(4)\n",
    "print(math.log(math.e))\n",
    "\n"
   ]
  }
 ],
 "metadata": {
  "kernelspec": {
   "display_name": "Python 3",
   "language": "python",
   "name": "python3"
  },
  "language_info": {
   "codemirror_mode": {
    "name": "ipython",
    "version": 3
   },
   "file_extension": ".py",
   "mimetype": "text/x-python",
   "name": "python",
   "nbconvert_exporter": "python",
   "pygments_lexer": "ipython3",
   "version": "3.7.6"
  }
 },
 "nbformat": 4,
 "nbformat_minor": 4
}
