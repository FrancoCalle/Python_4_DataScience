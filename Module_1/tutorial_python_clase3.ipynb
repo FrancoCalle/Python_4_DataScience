{
 "cells": [
  {
   "cell_type": "markdown",
   "metadata": {},
   "source": [
    "# Python para Economistas: Tercera Clase\n",
    "\n",
    "#### 1. Expresiones Booleanas\n",
    "\n",
    "    A veces es necesario saber si una expresión es Verdadera o Falso. Para ello existen multiples comandos en Python que nos permiten evaluar sentencias como por ejemplo, igualdades, desigualdades, pertenencia, existencia, entre otros y obtener una de dos respuestas, Verdadero o Falso lo cual es una expresion booleana.\n",
    "    \n",
    "    En las siguientes sentencias se evalua igualdades o desigualdades entre números."
   ]
  },
  {
   "cell_type": "code",
   "execution_count": 1,
   "metadata": {},
   "outputs": [
    {
     "name": "stdout",
     "output_type": "stream",
     "text": [
      "10 > 9 is: True\n",
      "10 >= 9 is: True\n",
      "10 == 9 is: False\n",
      "10 <= 9 is: False\n",
      "10 == 10. is: True\n"
     ]
    }
   ],
   "source": [
    "print(\"10 > 9 is:\", 10 > 9)\n",
    "print(\"10 >= 9 is:\",10 >= 9)\n",
    "print(\"10 == 9 is:\",10 == 9)\n",
    "print(\"10 <= 9 is:\",10 <= 9)\n",
    "print(\"10 == 10. is:\",10 == 10.)"
   ]
  },
  {
   "cell_type": "markdown",
   "metadata": {},
   "source": [
    "#### 2. Operadores lógicos\n",
    "    Los operadores lógicos utilizan \"or\" y \"and\" para combinar sentencias condicionales."
   ]
  },
  {
   "cell_type": "code",
   "execution_count": 2,
   "metadata": {},
   "outputs": [
    {
     "name": "stdout",
     "output_type": "stream",
     "text": [
      "not True is: False\n",
      "1<5 or 1>3 is: True\n",
      "1<5 and 1>3 is: False\n",
      "not(1<5 and 1>3) is: True\n"
     ]
    }
   ],
   "source": [
    "print(\"not True is:\", not True)\n",
    "print(\"1<5 or 1>3 is:\", 1<5 or 1>3)\n",
    "print(\"1<5 and 1>3 is:\", 1<5 and 1>3)\n",
    "print(\"not(1<5 and 1>3) is:\", not(1<5 and 1>3))"
   ]
  },
  {
   "cell_type": "markdown",
   "metadata": {},
   "source": [
    "#### 3. Identidad:\n",
    "    Utilizamos \"is\" para evaluar si un objeto es identico a otro no solo en terminos de su valor nominal sino tambien en base a sus propiedades."
   ]
  },
  {
   "cell_type": "code",
   "execution_count": 8,
   "metadata": {},
   "outputs": [
    {
     "name": "stdout",
     "output_type": "stream",
     "text": [
      "10 is 10. is: False\n",
      "10 is not 10. is: True\n"
     ]
    }
   ],
   "source": [
    "print(\"10 is 10. is:\", 10 is 10.)\n",
    "print(\"10 is not 10. is:\", 10 is not 10.)"
   ]
  },
  {
   "cell_type": "markdown",
   "metadata": {},
   "source": [
    "#### 4. Membresía:\n",
    "    Identidad: utilizamos \"is\" o \"is not\" para evaluar si una secuencia se encuentra presente en un objeto."
   ]
  },
  {
   "cell_type": "code",
   "execution_count": 3,
   "metadata": {},
   "outputs": [
    {
     "name": "stdout",
     "output_type": "stream",
     "text": [
      "10 in [9, 10] is: True\n",
      "10 not in [9, 10] is: False\n"
     ]
    }
   ],
   "source": [
    "print(\"10 in [9, 10] is:\", 10 in [9, 10])\n",
    "print(\"10 not in [9, 10] is:\", 10 not in [9, 10])"
   ]
  },
  {
   "cell_type": "markdown",
   "metadata": {},
   "source": [
    "#### 5. Isinstance:\n",
    "    La función isinstance() retorna el valor \"True\" cuando el objeto a evaluar es del tipo con el que se compara, y \"False\" si ocurre lo contrario."
   ]
  },
  {
   "cell_type": "code",
   "execution_count": 4,
   "metadata": {},
   "outputs": [
    {
     "name": "stdout",
     "output_type": "stream",
     "text": [
      "Is 10 an integer?: True\n",
      "Is '10' a string?: True\n",
      "Is 10. a float?: True\n",
      "Is [] a list?: True\n",
      "Is {} a dictionary: True\n",
      "Is (1,) a tuple?: True\n"
     ]
    }
   ],
   "source": [
    "print(\"Is 10 an integer?:\", isinstance(10, int))\n",
    "print(\"Is '10' a string?:\",isinstance(\"10\", str))\n",
    "print(\"Is 10. a float?:\",isinstance(10., float))\n",
    "print(\"Is [] a list?:\",isinstance([], list))\n",
    "print(\"Is {} a dictionary:\",isinstance({}, dict))\n",
    "print(\"Is (1,) a tuple?:\",isinstance((1,), tuple))"
   ]
  },
  {
   "cell_type": "markdown",
   "metadata": {},
   "source": [
    "#### 6. Evaluate if an element is True or False"
   ]
  },
  {
   "cell_type": "code",
   "execution_count": 7,
   "metadata": {},
   "outputs": [
    {
     "name": "stdout",
     "output_type": "stream",
     "text": [
      "False False False False False False True False True True\n"
     ]
    }
   ],
   "source": [
    "#Evaluar si un elemento es True o False\n",
    "print(\n",
    "bool(),\n",
    "bool([]),\n",
    "bool({}),\n",
    "bool(False),\n",
    "bool(\"\"),\n",
    "bool(0),\n",
    "bool(1),\n",
    "bool(None),\n",
    "bool(\"Hello\"),\n",
    "bool(15)\n",
    ")"
   ]
  },
  {
   "cell_type": "markdown",
   "metadata": {},
   "source": [
    "#### 7. Conditional, alternative, and chained conditional executions:\n",
    "    Es posible realizar cierto tipo de ejecuciones con el comando if. Basicamente lo que buscamos es pedir a Python que ejecute una sentencia si una condición se cumple. Adicionalmente, podemos incluir ejecuciones alternativas con el comando \"elif\" y \"else\" si es que una condición no se cumple."
   ]
  },
  {
   "cell_type": "code",
   "execution_count": 11,
   "metadata": {},
   "outputs": [
    {
     "name": "stdout",
     "output_type": "stream",
     "text": [
      "x es mayor que y\n",
      "x e y deberian ser iguales\n"
     ]
    }
   ],
   "source": [
    "x = 5\n",
    "y = 5\n",
    "\n",
    "# Condicionales\n",
    "if x < y:\n",
    "    print(\"x es menor que y\")\n",
    "\n",
    "# Alternativos\n",
    "if x < y:\n",
    "    print(\"x es menor que y\")\n",
    "else:\n",
    "    print(\"x es mayor que y\")\n",
    "\n",
    "# Condiciones en cadena\n",
    "if x < y:\n",
    "    print(\"x es menor que y\")\n",
    "elif x > y:\n",
    "    print(\"x es mayor que y\")\n",
    "else:\n",
    "    print(\"x e y deberian ser iguales\")\n"
   ]
  },
  {
   "cell_type": "markdown",
   "metadata": {},
   "source": [
    "#### 8. Nested if-else statement:\n",
    "    La idea aquí es que se pueden incluir jerarquías en los else if statements y anidar if statements dentro de otros."
   ]
  },
  {
   "cell_type": "code",
   "execution_count": 15,
   "metadata": {},
   "outputs": [
    {
     "name": "stdout",
     "output_type": "stream",
     "text": [
      "0  es 0\n"
     ]
    }
   ],
   "source": [
    "x = 10\n",
    "if x < 0:\n",
    "    xx = x**2\n",
    "    print(\"Elevamos \",  x, \" al cuadrado y el resultado es \", xx)\n",
    "else:\n",
    "    if x > 0:\n",
    "        print(x, \" es un numero positivo\")\n",
    "    else:\n",
    "        print(x, \" es 0\")\n"
   ]
  },
  {
   "cell_type": "code",
   "execution_count": 21,
   "metadata": {},
   "outputs": [
    {
     "name": "stdout",
     "output_type": "stream",
     "text": [
      "Maria  ni  Jose esta en nameList\n"
     ]
    }
   ],
   "source": [
    "nameList = ['M', 'J', 'Edgar', 'Daniel']\n",
    "\n",
    "name1 = 'Maria'\n",
    "name2 = 'Jose'\n",
    "\n",
    "if name1 in nameList:\n",
    "    \n",
    "    print(name1, 'esta en nameList')\n",
    "    \n",
    "else:\n",
    "    \n",
    "    if name2 in nameList:\n",
    "        \n",
    "        print(name2, 'esta en nameList')\n",
    "        \n",
    "    elif not(name1 in nameList) and  not(name2 in nameList):\n",
    "        \n",
    "        print(name1, ' ni ', name2, 'esta en nameList')\n",
    "        \n"
   ]
  },
  {
   "cell_type": "markdown",
   "metadata": {},
   "source": [
    "#### 9. Guardianes:\n",
    "    El manejo de excepciones permite habilitar el control de flujo al momento de programar y así detectar errores en caso de que el codigo se rompa. Usar try-except es la forma más común de manejar errores inesperados. "
   ]
  },
  {
   "cell_type": "code",
   "execution_count": 23,
   "metadata": {},
   "outputs": [
    {
     "name": "stdout",
     "output_type": "stream",
     "text": [
      "An exception occurred\n"
     ]
    }
   ],
   "source": [
    "try:\n",
    "  print(xsdasdw) # No hemos creado la variable xsdasdw, por lo tanto el codigo deberia imprimir la opcion en except\n",
    "except:\n",
    "  print(\"An exception occurred\")"
   ]
  },
  {
   "cell_type": "markdown",
   "metadata": {},
   "source": [
    "#### 10. Sentencias de corto circuito:\n",
    "    Las sentencias de corto circuito evaluan las condiciones de izquierda a derecha y acaban cuando la primera de las condiciones no se cumple, o continua si la primera logra cumplirse."
   ]
  },
  {
   "cell_type": "code",
   "execution_count": 24,
   "metadata": {},
   "outputs": [],
   "source": [
    "if True and False:\n",
    "    print('hello world')"
   ]
  },
  {
   "cell_type": "code",
   "execution_count": 27,
   "metadata": {},
   "outputs": [],
   "source": [
    "if False and True:\n",
    "    print('hello world')"
   ]
  }
 ],
 "metadata": {
  "kernelspec": {
   "display_name": "Python 3",
   "language": "python",
   "name": "python3"
  },
  "language_info": {
   "codemirror_mode": {
    "name": "ipython",
    "version": 3
   },
   "file_extension": ".py",
   "mimetype": "text/x-python",
   "name": "python",
   "nbconvert_exporter": "python",
   "pygments_lexer": "ipython3",
   "version": "3.7.6"
  }
 },
 "nbformat": 4,
 "nbformat_minor": 4
}
