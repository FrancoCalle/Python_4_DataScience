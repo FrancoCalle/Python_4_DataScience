{
 "cells": [
  {
   "cell_type": "markdown",
   "metadata": {},
   "source": [
    "# Python para Economistas: Quinta Clase\n",
    "\n",
    "#### 1. Flujo de ejecución: argumentos y parámetros\n",
    "En Python, una función es un grupo de declaraciones relacionadas que realiza una tarea específica. Por lo general las funciones requieren insumos que son modificados o modifican otros objetos dentro de la funcion y así arrojan un resultado. Las funciones ayudan a dividir nuestro programa en fragmentos más pequeños y modulares. A medida que nuestro programa se hace más y más grande, las funciones lo hacen más organizado y manejable. Además, evita la repetición y hace que el código sea reutilizable.\n",
    "    \n",
    "La sintáxis:\n",
    "                \n",
    "                                                def nombre_funcion(_insumo_):\n",
    "                                                    \n",
    "                                                    \"\"\"\n",
    "                                                    Documentación\n",
    "                                                    \"\"\"\n",
    "                                                    \n",
    "                                                    _sentencias_ ...\n",
    "                                                    _sentencias_ ...\n",
    "                                                    ...\n",
    "                                                    \n",
    "                                                    return _resultado_\n",
    "    \n",
    "Elementos en una función:\n",
    "\n",
    "1. Comando *def* que marca el inicio del encabezado de la función. \n",
    "\n",
    "2. El nombre de función *nombre_funcion* sirve para identificar de forma exclusiva la rutina y poder llamarla luego en el código.\n",
    "\n",
    "3. Parámetros *_insumo_* a través de los cuales pasamos valores a una función. Son opcionales. \n",
    "\n",
    "4. Dos puntos (:) para marcar el final del encabezado de la función.\n",
    "\n",
    "5. Documentación opcional, esta va entre tres comillas dobles y sirve para describir lo que hace la función. \n",
    "\n",
    "6. Una o más declaraciones de Python válidas que componen el cuerpo de la función. Las declaraciones deben estar en el mismo margen (generalmente 4 espacios).\n",
    "\n",
    "7. Una declaración de devolución *return* para devolver un valor de la función *_resultado_*.\n",
    "\n",
    "\n",
    "Para mayor detalle ir a: https://www.programiz.com/python-programming/function"
   ]
  },
  {
   "cell_type": "code",
   "execution_count": 2,
   "metadata": {},
   "outputs": [],
   "source": [
    "import numpy as np\n",
    "#import pandas as pd\n",
    "import time\n",
    "import random\n",
    "import matplotlib.pyplot as plt"
   ]
  },
  {
   "cell_type": "code",
   "execution_count": 6,
   "metadata": {},
   "outputs": [],
   "source": [
    "def miPrimeraSuma(a,b):\n",
    "    return a+b"
   ]
  },
  {
   "cell_type": "code",
   "execution_count": 11,
   "metadata": {},
   "outputs": [
    {
     "name": "stdout",
     "output_type": "stream",
     "text": [
      "3\n"
     ]
    }
   ],
   "source": [
    "#miPrimeraSuma(1,2)\n",
    "suma = miPrimeraSuma(1,2)\n",
    "print(suma)"
   ]
  },
  {
   "cell_type": "code",
   "execution_count": 15,
   "metadata": {},
   "outputs": [
    {
     "name": "stdout",
     "output_type": "stream",
     "text": [
      "4\n"
     ]
    }
   ],
   "source": [
    "def miSegundaSuma(a=None,b=None):\n",
    "    if a != None and b != None:\n",
    "        return a+b\n",
    "    elif a == None or b != None:\n",
    "        return b\n",
    "    elif a != None or b == None:\n",
    "            return a\n",
    "    else:\n",
    "        return None\n",
    "\n",
    "print(miSegundaSuma(4,None))"
   ]
  },
  {
   "cell_type": "markdown",
   "metadata": {},
   "source": [
    "#### 2. Funciones anónimas lambdas:\n",
    "\n",
    "En Python, una función anónima se define sin un nombre. Mientras que las funciones normales se definen usando el comando def en Python, las funciones anónimas se definen usando el comando lambda."
   ]
  },
  {
   "cell_type": "code",
   "execution_count": 21,
   "metadata": {},
   "outputs": [
    {
     "data": {
      "text/plain": [
       "3"
      ]
     },
     "execution_count": 21,
     "metadata": {},
     "output_type": "execute_result"
    }
   ],
   "source": [
    "suma = lambda x, y: x + y\n",
    "suma(1,2)"
   ]
  },
  {
   "cell_type": "code",
   "execution_count": 26,
   "metadata": {},
   "outputs": [
    {
     "data": {
      "text/plain": [
       "[6, 6, 5]"
      ]
     },
     "execution_count": 26,
     "metadata": {},
     "output_type": "execute_result"
    }
   ],
   "source": [
    "list(map(suma, [1,3,4], [5,3,1]))\n",
    "list(map(miPrimeraSuma, [1,3,4], [5,3,1]))\n",
    "list(map(lambda x, y: x + y, [1,3,4], [5,3,1]))"
   ]
  },
  {
   "cell_type": "code",
   "execution_count": 27,
   "metadata": {},
   "outputs": [
    {
     "data": {
      "text/plain": [
       "-1"
      ]
     },
     "execution_count": 27,
     "metadata": {},
     "output_type": "execute_result"
    }
   ],
   "source": [
    "resta = lambda x, y: x - y\n",
    "resta(1,2)"
   ]
  },
  {
   "cell_type": "markdown",
   "metadata": {},
   "source": [
    "#### 3. La función map:\n",
    "\n",
    "La función map() aplica una función dada a cada elemento de un iterable (lista, tupla, etc.) y devuelve una lista del mismo tamaño con los resultados."
   ]
  },
  {
   "cell_type": "code",
   "execution_count": 35,
   "metadata": {},
   "outputs": [
    {
     "data": {
      "text/plain": [
       "[-2, -3, 6, -3, 8, 11]"
      ]
     },
     "execution_count": 35,
     "metadata": {},
     "output_type": "execute_result"
    }
   ],
   "source": [
    "dataX = [3, 4 , 6, 5, 10, 15]\n",
    "\n",
    "dataY = [5, 7 , 0, 8, 2, 4]\n",
    "\n",
    "#list(map(suma, dataX, dataY))\n",
    "\n",
    "#list(map(suma, dataX, dataY))\n",
    "#list(map(resta, dataX, dataY))\n",
    "\n",
    "#list(map(lambda x, y: x + y, dataX, dataY))\n",
    "#list(map(lambda x, y: x - y, dataX, dataY))\n"
   ]
  },
  {
   "cell_type": "markdown",
   "metadata": {},
   "source": [
    "#### 4. Filter:\n",
    "\n",
    "El método filter() filtra un objeto iterable con la ayuda de una función que prueba en base a condicionales que cada elemento en del iterable sea verdadero o no. El resultado del metodo es una lista con el mismo, o menor número de elementos dado que cumplieron con ser verdaderos en base a la función."
   ]
  },
  {
   "cell_type": "code",
   "execution_count": 37,
   "metadata": {},
   "outputs": [
    {
     "name": "stdout",
     "output_type": "stream",
     "text": [
      "['a', 'e', 'i', 'u']\n"
     ]
    }
   ],
   "source": [
    "alphabets = ['a', 'b', 'c', 'e', 'i', 'j', 'u']\n",
    "\n",
    "# Funcion que filtra vocales:\n",
    "def filtraVocales(letra):\n",
    "    vocales = ['a', 'e', 'i', 'o', 'u']\n",
    "    if(letra in vocales):\n",
    "        return True\n",
    "    else:\n",
    "        return False\n",
    "\n",
    "#filteredVowels = filter(filtraVocales, alphabets)\n",
    "#list(filteredVowels)\n",
    "\n",
    "filteredVowels = list(filter(lambda x: x in ['a', 'e', 'i', 'o', 'u'], alphabets))\n",
    "\n",
    "print(filteredVowels)"
   ]
  },
  {
   "cell_type": "markdown",
   "metadata": {},
   "source": [
    "#### 5. El paquete numpy:\n",
    "\n",
    "NumPy es un paquete de procesamiento de matrices de uso general. Proporciona un objeto matricial con multiples propiedades y de alto rendimiento y herramientas para trabajar con estas matrices. Algunas de estas herramientas son codificadas vía C/C++. Este paquete es fundamental para la ciencia de datos pues contiene varias características, incluidas estas importantes:\n",
    "\n",
    "1. Un poderoso objeto de matriz N-dimensional\n",
    "2. Funciones sofisticadas para hacer broadcasting\n",
    "3. Herramientas para integrar código C / C ++ y Fortran\n",
    "4. Métodos de álgebra lineal, transformación de Fourier y rutinas para obtener de números aleatorios de distintas distribuciones.\n",
    "5. NumPy también se puede utilizar como un contenedor eficiente multidimensional de datos genéricos."
   ]
  },
  {
   "cell_type": "code",
   "execution_count": 45,
   "metadata": {},
   "outputs": [
    {
     "name": "stdout",
     "output_type": "stream",
     "text": [
      "[2 4] [3 3] [1.5 1.5] [2 2] [1 1] [2 2] [0.5 0.5]\n"
     ]
    }
   ],
   "source": [
    "import numpy as np\n",
    "\n",
    "miMatrix = np.ones((5,5))\n",
    "miMatrix = np.ones((5,5,5))\n",
    "\n",
    "miMatrix = np.zeros((5,5))\n",
    "\n",
    "miMatrix = np.random.rand(5,5)\n",
    "#print(miMatrix)\n",
    "\n",
    "# Numpy Arrays has multiple methods included\n",
    "myArray = np.array([[1, 2],[1, 2]])\n",
    "#print(myArray)\n",
    "\n",
    "print(\n",
    "myArray.sum(0),\n",
    "myArray.sum(1),\n",
    "myArray.mean(1),\n",
    "myArray.max(1),\n",
    "myArray.min(1),\n",
    "myArray.std(1)\n",
    ")\n",
    "\n"
   ]
  },
  {
   "cell_type": "code",
   "execution_count": 49,
   "metadata": {},
   "outputs": [
    {
     "name": "stdout",
     "output_type": "stream",
     "text": [
      "[[1 2]\n",
      " [1 2]] \n",
      " \n",
      " [[1 1]\n",
      " [2 2]]\n"
     ]
    }
   ],
   "source": [
    "print(\n",
    "    myArray, '\\n \\n',\n",
    "    myArray.transpose()\n",
    "     )"
   ]
  },
  {
   "cell_type": "code",
   "execution_count": 50,
   "metadata": {},
   "outputs": [
    {
     "name": "stdout",
     "output_type": "stream",
     "text": [
      "[0.04665806 0.33515648 0.26012598 0.52301773 0.87939967]\n",
      "[0.74274438 0.20578211 0.81948701 0.07288761 0.86511761]\n",
      "[0.23235756 0.99699158 0.27139695 0.14111165 0.82141028]\n",
      "[0.35606688 0.61342963 0.13734822 0.61328739 0.55981471]\n",
      "[0.99141856 0.38088387 0.40361746 0.61229256 0.91596457]\n",
      "\n",
      " print columns \n",
      "\n",
      "[0.04665806 0.74274438 0.23235756 0.35606688 0.99141856]\n",
      "[0.33515648 0.20578211 0.99699158 0.61342963 0.38088387]\n",
      "[0.26012598 0.81948701 0.27139695 0.13734822 0.40361746]\n",
      "[0.52301773 0.07288761 0.14111165 0.61328739 0.61229256]\n",
      "[0.87939967 0.86511761 0.82141028 0.55981471 0.91596457]\n"
     ]
    }
   ],
   "source": [
    "for row in miMatrix:\n",
    "    print(row)\n",
    "\n",
    "print('\\n print columns \\n')    \n",
    "    \n",
    "for col in miMatrix.transpose():\n",
    "    print(col)\n"
   ]
  },
  {
   "cell_type": "code",
   "execution_count": 63,
   "metadata": {},
   "outputs": [
    {
     "name": "stdout",
     "output_type": "stream",
     "text": [
      "0.5051045677354022\n"
     ]
    },
    {
     "data": {
      "text/plain": [
       "(array([  19.,  128.,  575., 1705., 2907., 2682., 1448.,  457.,   71.,\n",
       "           8.]),\n",
       " array([-0.89283461, -0.50587515, -0.11891569,  0.26804377,  0.65500324,\n",
       "         1.0419627 ,  1.42892216,  1.81588162,  2.20284108,  2.58980054,\n",
       "         2.97676001]),\n",
       " <a list of 10 Patch objects>)"
      ]
     },
     "execution_count": 63,
     "metadata": {},
     "output_type": "execute_result"
    },
    {
     "data": {
      "image/png": "[encoded data removed]",
      "text/plain": [
       "<Figure size 432x288 with 1 Axes>"
      ]
     },
     "metadata": {
      "needs_background": "light"
     },
     "output_type": "display_data"
    }
   ],
   "source": [
    "#Numeros aleatorios\n",
    "xi = np.random.normal(1,.5)  # Variable aleatoria con media 1 y variancia .5\n",
    "#print(xi)\n",
    "\n",
    "\n",
    "X = np.random.normal(1,.5, 10000)  # Diez mil ocurrencias:\n",
    "#print(X.shape)\n",
    "\n",
    "Xbar = X.mean()\n",
    "#print(Xbar)\n",
    "\n",
    "Sigma2 = sum((Xbar-X)**2)/X.shape[0]\n",
    "#print(Sigma2)\n",
    "\n",
    "Sigma = np.sqrt(Sigma2)\n",
    "print(Sigma)\n",
    "\n",
    "plt.hist(X)"
   ]
  },
  {
   "cell_type": "code",
   "execution_count": 67,
   "metadata": {},
   "outputs": [
    {
     "name": "stdout",
     "output_type": "stream",
     "text": [
      "429 veces en 2740 Años\n"
     ]
    }
   ],
   "source": [
    "#Variable aleatoria que proviene de una binomial:\n",
    "# X = np.random.binomial(100, 0.2, 100000)  \n",
    "# plt.hist(X)\n",
    "\n",
    "# (X>=30).mean() # Probabilidad de que la moneda caiga cara 30 veces de las 100\n",
    "\n",
    "\n",
    "# Cual es la probabilidad que hayan dos terremotos dos dias seguidos en Peru\n",
    "T = np.random.binomial(1, 0.02, 1000000)  \n",
    "\n",
    "ii = 0\n",
    "for dd in range(1,1000000):\n",
    "    if T[dd] == 1 and T[dd-1] == 1:\n",
    "        ii += 1\n",
    "\n",
    "print(str(ii), 'veces en', str(round(1000000/365)), \"Años\")\n"
   ]
  }
 ],
 "metadata": {
  "kernelspec": {
   "display_name": "Python 3",
   "language": "python",
   "name": "python3"
  },
  "language_info": {
   "codemirror_mode": {
    "name": "ipython",
    "version": 3
   },
   "file_extension": ".py",
   "mimetype": "text/x-python",
   "name": "python",
   "nbconvert_exporter": "python",
   "pygments_lexer": "ipython3",
   "version": "3.7.6"
  }
 },
 "nbformat": 4,
 "nbformat_minor": 4
}
