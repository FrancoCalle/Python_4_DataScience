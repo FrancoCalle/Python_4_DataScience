{
 "cells": [
  {
   "cell_type": "markdown",
   "metadata": {},
   "source": [
    "# Python para Economistas: Cuarta Clase\n",
    "\n",
    "#### 1. Actualizando Variables\n",
    "\n",
    "    En algunos casos sencillos queremos actualizar una variable, por ejemplo sumandole o restandole un valor a la variable original.\n",
    "<img src=\"https://latex.codecogs.com/gif.latex?i_1&space;=&space;i_0&space;&plus;&space;1\" title=\"i_1 = i_0 + 1\" />\n",
    "\n",
    "\n",
    "    Esto lo hacemos cuando el valor de la iteración pasada i_0 no es de interés para el programador y simplemente se sobre escribe agregandole el valor que actualiza la variable. Esto ocurre frecuente por ejemplo cuando queremos que \"i\" rastree el numero de iteraciones que esta realizando un bucle."
   ]
  },
  {
   "cell_type": "code",
   "execution_count": 7,
   "metadata": {},
   "outputs": [
    {
     "name": "stdout",
     "output_type": "stream",
     "text": [
      "First value of i: 0\n",
      "Second value of i: 1\n",
      "Third value of i: 0\n",
      "Fourth value of i: 5\n"
     ]
    }
   ],
   "source": [
    "ii = 0\n",
    "print('First value of i:', ii)\n",
    "ii += 1\n",
    "print('Second value of i:', ii)\n",
    "ii -= 1\n",
    "print('Third value of i:', ii)\n",
    "\n",
    "k = 5\n",
    "ii = ii + k \n",
    "print('Fourth value of i:', ii)\n"
   ]
  },
  {
   "cell_type": "markdown",
   "metadata": {},
   "source": [
    "#### 2. Loops definidos usando for\n",
    "    Un bucle \"for\" se usa para iterar sobre una secuencia (que puede ser una lista, una tupla, un diccionario o un conjunto). Esto se ejecuta con el comando  for. Con el bucle for podemos ejecutar un conjunto de declaraciones, una vez para cada elemento de una lista, tupla, conjunto, etc."
   ]
  },
  {
   "cell_type": "code",
   "execution_count": 11,
   "metadata": {},
   "outputs": [
    {
     "name": "stdout",
     "output_type": "stream",
     "text": [
      "0\n",
      "0\n",
      "1\n",
      "-1\n",
      "2\n",
      "-2\n",
      "3\n",
      "-3\n",
      "4\n",
      "-4\n",
      "5\n",
      "-5\n",
      "6\n",
      "-6\n",
      "7\n",
      "-7\n",
      "8\n",
      "-8\n",
      "9\n",
      "-9\n",
      "Final del bucle\n"
     ]
    }
   ],
   "source": [
    "for ii in range(10):\n",
    "    print(ii)\n",
    "    print(-ii)\n",
    "    \n",
    "print(\"Final del bucle\")"
   ]
  },
  {
   "cell_type": "code",
   "execution_count": 16,
   "metadata": {},
   "outputs": [
    {
     "name": "stdout",
     "output_type": "stream",
     "text": [
      "Numero: 1\n",
      "Numero: 2\n",
      "Numero: 3\n",
      "Numero: 4\n",
      "Numero: 5\n",
      "Numero: 6\n",
      "Numero: 7\n",
      "Numero: 8\n",
      "Numero: 9\n",
      "Numero: 10\n"
     ]
    }
   ],
   "source": [
    "for ii in range(1,11):\n",
    "    strNumber = \"Numero: \" + str(ii)\n",
    "    print(strNumber)"
   ]
  },
  {
   "cell_type": "code",
   "execution_count": 17,
   "metadata": {},
   "outputs": [
    {
     "name": "stdout",
     "output_type": "stream",
     "text": [
      "1\n",
      "2\n",
      "3\n",
      "4\n",
      "5\n"
     ]
    }
   ],
   "source": [
    "# Se puede iterar a traves de listas\n",
    "numberList = [1,2,3,4,5]\n",
    "for ii in numberList:\n",
    "    print(ii)"
   ]
  },
  {
   "cell_type": "code",
   "execution_count": 18,
   "metadata": {},
   "outputs": [
    {
     "name": "stdout",
     "output_type": "stream",
     "text": [
      "1\n",
      "2\n",
      "3\n",
      "4\n",
      "5\n"
     ]
    }
   ],
   "source": [
    "# Se puede iterar a traves de tuplas\n",
    "numberTuple = (1,2,3,4,5)\n",
    "for ii in numberTuple:\n",
    "    print(ii)"
   ]
  },
  {
   "cell_type": "code",
   "execution_count": 19,
   "metadata": {},
   "outputs": [
    {
     "name": "stdout",
     "output_type": "stream",
     "text": [
      "['Numero: 1', 'Numero: 2', 'Numero: 3', 'Numero: 4', 'Numero: 5']\n"
     ]
    }
   ],
   "source": [
    "listaDeNumeros = []\n",
    "for ii in range(1,6):\n",
    "    newVariable = \"Numero: \" + str(ii)\n",
    "    listaDeNumeros.append(newVariable)\n",
    "\n",
    "print(listaDeNumeros)"
   ]
  },
  {
   "cell_type": "markdown",
   "metadata": {},
   "source": [
    "#### 3. List comprehension\n",
    "    Los list comprehension son una version más elegante y menos tediosa de cómo armar listas usando bucles. Esto sirve para ahorrarse lineas y hacer más entendible el código."
   ]
  },
  {
   "cell_type": "code",
   "execution_count": 22,
   "metadata": {},
   "outputs": [
    {
     "name": "stdout",
     "output_type": "stream",
     "text": [
      "Método 1: ['I', 'n', 'f', 'o', 'x']\n",
      "Método 2: ['I', 'n', 'f', 'o', 'x']\n"
     ]
    }
   ],
   "source": [
    "# Separamos las letras del string ´Infox´:\n",
    "\n",
    "# Método 1:\n",
    "\n",
    "listaLetras = []\n",
    "for letra in \"Infox\":\n",
    "    listaLetras.append(letra)\n",
    "\n",
    "print(\"Método 1:\", listaLetras)\n",
    "\n",
    "\n",
    "# Método 2: \n",
    "listaLetras = [letra for letra in \"Infox\"]\n",
    "print(\"Método 2:\",listaLetras)"
   ]
  },
  {
   "cell_type": "markdown",
   "metadata": {},
   "source": [
    "#### 4. Iteraciones con condicionales\n",
    "    Hay casos en los que queremos omitir una iteración o queremos realizar alguna ejecución distinta cuando alguna condición dentro del bucle no ocurre. En este caso podemos incluir condicionales en las iteraciones."
   ]
  },
  {
   "cell_type": "code",
   "execution_count": 24,
   "metadata": {},
   "outputs": [
    {
     "data": {
      "text/plain": [
       "['Trabajador: Hector',\n",
       " 'Trabajador: Miguel',\n",
       " 'Trabajador: Christian',\n",
       " 'Trabajadora: Daniela',\n",
       " 'Trabajadora: Roxana',\n",
       " 'Trabajadora: Ana',\n",
       " 'Trabajadora: Claudia',\n",
       " 'Trabajador: Jose',\n",
       " 'Trabajador: Kevin',\n",
       " 'Trabajadora: Julieta']"
      ]
     },
     "execution_count": 24,
     "metadata": {},
     "output_type": "execute_result"
    }
   ],
   "source": [
    "listaNombres = ['Hector', 'Miguel', 'Christian','Daniela', 'Roxana', 'Ana', 'Claudia', 'Jose', 'Kevin', 'Julieta']\n",
    "\n",
    "nuevaListaNombres = []\n",
    "\n",
    "for nombre in listaNombres:\n",
    "    if nombre[-1] == 'a':\n",
    "        nuevaListaNombres.append(\"Trabajadora: \" + str(nombre))\n",
    "    else:\n",
    "        nuevaListaNombres.append(\"Trabajador: \" + str(nombre))\n",
    "\n",
    "nuevaListaNombres"
   ]
  },
  {
   "cell_type": "code",
   "execution_count": 26,
   "metadata": {},
   "outputs": [
    {
     "data": {
      "text/plain": [
       "['Trabajador: 2',\n",
       " 'Trabajador: 4',\n",
       " 'Trabajador: 6',\n",
       " 'Trabajador: 8',\n",
       " 'Trabajador: 10',\n",
       " 'Trabajador: 12',\n",
       " 'Trabajador: 14']"
      ]
     },
     "execution_count": 26,
     "metadata": {},
     "output_type": "execute_result"
    }
   ],
   "source": [
    "codigoTrabajador = list(range(1,15))\n",
    "codigoTrabajadorPar = []\n",
    "\n",
    "for ii in codigoTrabajador:\n",
    "    if ii%2 == 0:\n",
    "        codigoTrabajadorPar.append(\"Trabajador: \"+ str(ii))\n",
    "\n",
    "codigoTrabajadorPar"
   ]
  },
  {
   "cell_type": "code",
   "execution_count": 27,
   "metadata": {},
   "outputs": [
    {
     "data": {
      "text/plain": [
       "['Trabajador: 6', 'Trabajador: 12']"
      ]
     },
     "execution_count": 27,
     "metadata": {},
     "output_type": "execute_result"
    }
   ],
   "source": [
    "codigoTrabajadorMultiploSeis = []\n",
    "for ii in codigoTrabajador:\n",
    "    if ii%2 == 0 and ii%3 == 0:\n",
    "        codigoTrabajadorMultiploSeis.append(\"Trabajador: \"+ str(ii))\n",
    "\n",
    "codigoTrabajadorMultiploSeis"
   ]
  },
  {
   "cell_type": "code",
   "execution_count": 28,
   "metadata": {},
   "outputs": [
    {
     "data": {
      "text/plain": [
       "['Trabajador: 2',\n",
       " 'Trabajador: 3',\n",
       " 'Trabajador: 4',\n",
       " 'Trabajador: 6',\n",
       " 'Trabajador: 8',\n",
       " 'Trabajador: 9',\n",
       " 'Trabajador: 10',\n",
       " 'Trabajador: 12',\n",
       " 'Trabajador: 14']"
      ]
     },
     "execution_count": 28,
     "metadata": {},
     "output_type": "execute_result"
    }
   ],
   "source": [
    "codigoTrabajadorMultiplos = []\n",
    "for ii in codigoTrabajador:\n",
    "    if ii%2 == 0 or ii%3 == 0:\n",
    "        codigoTrabajadorMultiplos.append(\"Trabajador: \"+ str(ii))\n",
    "\n",
    "codigoTrabajadorMultiplos"
   ]
  },
  {
   "cell_type": "markdown",
   "metadata": {},
   "source": [
    "#### 5. Nested Iterations\n",
    "    \n",
    "    En algunos casos, querremos iterar en múltiples listas, o cuando trabajemos con matrices, múltiples dimensiones. Para esto podemos anidar bucles dentro de otros bucles."
   ]
  },
  {
   "cell_type": "code",
   "execution_count": 31,
   "metadata": {
    "scrolled": true
   },
   "outputs": [
    {
     "name": "stdout",
     "output_type": "stream",
     "text": [
      "[[0. 0. 0. 0. 0.]\n",
      " [0. 0. 0. 0. 0.]\n",
      " [0. 0. 0. 0. 0.]\n",
      " [0. 0. 0. 0. 0.]\n",
      " [0. 0. 0. 0. 0.]] \n",
      " \n",
      " [[1. 1. 1. 1. 1.]\n",
      " [1. 1. 1. 1. 1.]\n",
      " [1. 1. 1. 1. 1.]\n",
      " [1. 1. 1. 1. 1.]\n",
      " [1. 1. 1. 1. 1.]] \n",
      " \n",
      " [[1. 0. 0. 0. 0.]\n",
      " [0. 1. 0. 0. 0.]\n",
      " [0. 0. 1. 0. 0.]\n",
      " [0. 0. 0. 1. 0.]\n",
      " [0. 0. 0. 0. 1.]]\n"
     ]
    }
   ],
   "source": [
    "# Nested iteration:\n",
    "import numpy as np\n",
    "import copy\n",
    "\n",
    "zeroArray = np.zeros((5,5))\n",
    "onesArray = copy.copy(zeroArray)\n",
    "\n",
    "for ii in range(onesArray.shape[0]):\n",
    "    for jj in range(onesArray.shape[1]):\n",
    "        onesArray[ii,jj] = 1\n",
    "\n",
    "onesArrayDiag = copy.copy(zeroArray)\n",
    "for ii in range(onesArrayDiag.shape[0]):\n",
    "    for jj in range(onesArrayDiag.shape[1]):\n",
    "        if ii == jj:\n",
    "            onesArrayDiag[ii,jj] = 1\n",
    "        \n",
    "print(zeroArray, '\\n \\n', onesArray, '\\n \\n', onesArrayDiag)"
   ]
  },
  {
   "cell_type": "markdown",
   "metadata": {},
   "source": [
    "#### 6. Iteraciones en paralelo\n",
    "    Es común utilizar iteraciones en paralelo cuando queremos iterar a traves de listas diferentes de forma simultanea. Para ello se utiliza el comando zip. Este proceso se puede realizar con el comando zip en el cual se incluye como insumo todas las listas o secuencias a traves de las cuales queremos iterar."
   ]
  },
  {
   "cell_type": "code",
   "execution_count": 34,
   "metadata": {},
   "outputs": [
    {
     "name": "stdout",
     "output_type": "stream",
     "text": [
      "Worker Number | Age | Random Number\n",
      "------------------------------------\n",
      "Trabajador: 1 | 44 | 0.7311\n",
      "Trabajador: 2 | 20 | 0.6178\n",
      "Trabajador: 3 | 45 | 0.5898\n",
      "Trabajador: 4 | 49 | 0.1847\n",
      "Trabajador: 5 | 34 | 0.1559\n",
      "Trabajador: 6 | 45 | 0.3823\n",
      "Trabajador: 7 | 28 | 0.6781\n",
      "Trabajador: 8 | 19 | 0.7535\n",
      "Trabajador: 9 | 33 | 0.2878\n",
      "Trabajador: 10 | 34 | 0.2221\n"
     ]
    }
   ],
   "source": [
    "import random\n",
    "\n",
    "workersNumber = [\"Trabajador: \" + str(i) for i in range(1,11)]\n",
    "workersAge  = [random.randint(18, 50) for i in range(10)]\n",
    "workerRandomNumber = [random.uniform(0, 1) for i in range(10)]\n",
    "\n",
    "\n",
    "print('Worker Number', '|', 'Age' , '|' , 'Random Number')\n",
    "print('------------------------------------')\n",
    "\n",
    "for number, age, randomNumber in zip(workersNumber, workersAge, workerRandomNumber):\n",
    "    print(number, '|', age , '|' , round(randomNumber,4))\n"
   ]
  },
  {
   "cell_type": "code",
   "execution_count": 37,
   "metadata": {},
   "outputs": [
    {
     "name": "stdout",
     "output_type": "stream",
     "text": [
      "Peru: ['Trabajador: 4', 'Trabajador: 5']\n",
      "Chile: ['Trabajador: 9', 'Trabajador: 10']\n",
      "Argentina: ['Trabajador: 3', 'Trabajador: 6']\n",
      "Colombia: ['Trabajador: 1', 'Trabajador: 2', 'Trabajador: 7', 'Trabajador: 8']\n"
     ]
    }
   ],
   "source": [
    "groupPeru = []\n",
    "groupChile = []\n",
    "groupArgentina = []\n",
    "groupColombia = []\n",
    "\n",
    "for randomNumber, number in zip(workerRandomNumber, workersNumber):\n",
    "    if randomNumber < 0.20:\n",
    "        groupPeru.append(number)\n",
    "    elif randomNumber >= 0.20 and randomNumber < 0.30:\n",
    "        groupChile.append(number)\n",
    "    elif randomNumber >= 0.30 and randomNumber < 0.60:\n",
    "        groupArgentina.append(number)\n",
    "    else:\n",
    "        groupColombia.append(number)\n",
    "\n",
    "print('Peru:', groupPeru)\n",
    "print('Chile:', groupChile)\n",
    "print('Argentina:', groupArgentina)\n",
    "print('Colombia:', groupColombia)"
   ]
  },
  {
   "cell_type": "code",
   "execution_count": 39,
   "metadata": {},
   "outputs": [
    {
     "name": "stdout",
     "output_type": "stream",
     "text": [
      "Peru: ['Trabajador: 4', 'Trabajador: 5']\n",
      "Chile: ['Trabajador: 9', 'Trabajador: 10']\n",
      "Argentina: ['Trabajador: 3', 'Trabajador: 6']\n",
      "Colombia: ['Trabajador: 1', 'Trabajador: 2', 'Trabajador: 7', 'Trabajador: 8']\n"
     ]
    }
   ],
   "source": [
    "def groupAsignment(seed):\n",
    "    \n",
    "    if seed < 0.20:\n",
    "        groupName = \"Peru\"\n",
    "    elif seed >= 0.20 and seed < 0.30:\n",
    "        groupName = \"Chile\"\n",
    "    elif seed >= 0.30 and seed < 0.60:\n",
    "        groupName = \"Argentina\"\n",
    "    else:\n",
    "        groupName = \"Colombia\"\n",
    "\n",
    "    return groupName\n",
    "\n",
    "\n",
    "groupPeru = [number for seed, number in zip(workerRandomNumber, workersNumber) if groupAsignment(seed) == \"Peru\"]\n",
    "groupChile = [number for seed, number in zip(workerRandomNumber, workersNumber) if groupAsignment(seed) == \"Chile\"]\n",
    "groupArgentina = [number for seed, number in zip(workerRandomNumber, workersNumber) if groupAsignment(seed) == \"Argentina\"]\n",
    "groupColombia = [number for seed, number in zip(workerRandomNumber, workersNumber) if groupAsignment(seed) == \"Colombia\"]\n",
    "\n",
    "print('Peru:', groupPeru)\n",
    "print('Chile:', groupChile)\n",
    "print('Argentina:', groupArgentina)\n",
    "print('Colombia:', groupColombia)"
   ]
  },
  {
   "cell_type": "markdown",
   "metadata": {},
   "source": [
    "#### 7. While Statements:\n",
    "    Con el comando while podemos ejecutar un conjunto de declaraciones siempre y cuando la condición inicial con que se ejecuta el comando while sea verdadera. Lo ideal es que esta condición sea modificada o cambie endogenamente en base a lo que ocurre dentro del bucle.\n",
    "\n"
   ]
  },
  {
   "cell_type": "code",
   "execution_count": 43,
   "metadata": {},
   "outputs": [
    {
     "name": "stdout",
     "output_type": "stream",
     "text": [
      "Estamos en el numero: 10\n",
      "Estamos en el numero: 20\n",
      "Estamos en el numero: 30\n",
      "Estamos en el numero: 40\n",
      "Estamos en el numero: 50\n",
      "Estamos en el numero: 60\n",
      "Estamos en el numero: 70\n",
      "Estamos en el numero: 80\n",
      "Estamos en el numero: 90\n",
      "Estamos en el numero: 100\n",
      "101\n"
     ]
    }
   ],
   "source": [
    "jj = 0\n",
    "while jj <= 100:\n",
    "    jj = jj + 1\n",
    "    if jj%10 == 0:\n",
    "        print(\"Estamos en el numero: \" + str(jj))\n",
    "        \n",
    "print(jj)"
   ]
  }
 ],
 "metadata": {
  "kernelspec": {
   "display_name": "Python 3",
   "language": "python",
   "name": "python3"
  },
  "language_info": {
   "codemirror_mode": {
    "name": "ipython",
    "version": 3
   },
   "file_extension": ".py",
   "mimetype": "text/x-python",
   "name": "python",
   "nbconvert_exporter": "python",
   "pygments_lexer": "ipython3",
   "version": "3.7.6"
  }
 },
 "nbformat": 4,
 "nbformat_minor": 4
}
