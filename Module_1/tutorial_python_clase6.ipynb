{
 "cells": [
  {
   "cell_type": "markdown",
   "metadata": {},
   "source": [
    "# Python para Economistas: Quinta Clase\n",
    "\n",
    "#### 1. Módulo Pandas:\n",
    "\n",
    "Pandas es una herramienta de manipulación de datos en Python. El paquete pandas crea un objeto Python con filas y columnas llamado dataframe que se parece mucho a una tabla como en softwares estadísticos como Stata y Excel. Los dataframes permiten al usuario almacenar y manipular datos en filas de observaciones y columnas que tambien son llamadas Series.\n",
    "\n",
    "<img src=\"pandas_structure.png\" alt=\"Drawing\" style=\"width: 600px;\">\n",
    "Fuente: https://medium.com/epfl-extension-school/selecting-data-from-a-pandas-dataframe-53917dc39953"
   ]
  },
  {
   "cell_type": "code",
   "execution_count": 3,
   "metadata": {},
   "outputs": [],
   "source": [
    "import numpy as np\n",
    "import pandas as pd\n",
    "import random\n",
    "import matplotlib.pyplot as plt"
   ]
  },
  {
   "cell_type": "markdown",
   "metadata": {},
   "source": [
    "#### 1. Creando series y DataFrames:\n",
    "\n",
    "Las Series son colecciones de datos, son iterables y estan organizados de una manera ordenada. Por otro lado, los Dataframes son colecciones de Series que conforman una base de datos como en la imagen anterior. Las Series y los DataFrames tienen métodos que permiten realizar operaciones sobre esos datos como veremos más adelante."
   ]
  },
  {
   "cell_type": "code",
   "execution_count": 6,
   "metadata": {},
   "outputs": [
    {
     "name": "stdout",
     "output_type": "stream",
     "text": [
      "0    -1.206576\n",
      "1     1.955862\n",
      "2     0.602736\n",
      "3    -0.233825\n",
      "4    -0.263275\n",
      "        ...   \n",
      "95   -0.658316\n",
      "96    1.483740\n",
      "97   -0.078586\n",
      "98    0.652969\n",
      "99    0.898487\n",
      "Length: 100, dtype: float64\n"
     ]
    }
   ],
   "source": [
    "s = pd.Series(np.random.randn(100))\n",
    "s1 = pd.Series(np.random.randint(1, 100, 100))\n",
    "s2 = pd.Series(np.random.normal(0,1,100))\n",
    "s3 = pd.Series(np.random.uniform(0,1,100))\n",
    "s4 = pd.Series(np.random.binomial(1,.3,100))\n",
    "\n",
    "print(s)"
   ]
  },
  {
   "cell_type": "code",
   "execution_count": 7,
   "metadata": {},
   "outputs": [
    {
     "name": "stdout",
     "output_type": "stream",
     "text": [
      "      Random  RandInt    Normal   Uniform  Binomial\n",
      "0  -1.206576       29 -1.614901  0.724084         0\n",
      "1   1.955862       17  0.510943  0.845493         0\n",
      "2   0.602736       78  0.054672  0.409102         0\n",
      "3  -0.233825       15  1.219210  0.856543         0\n",
      "4  -0.263275       22  0.535132  0.482032         0\n",
      "..       ...      ...       ...       ...       ...\n",
      "95 -0.658316       42  0.567436  0.615567         0\n",
      "96  1.483740       25  0.035844  0.459035         0\n",
      "97 -0.078586       81 -0.238108  0.133608         0\n",
      "98  0.652969       33  1.280115  0.361999         0\n",
      "99  0.898487       40 -0.580155  0.905068         1\n",
      "\n",
      "[100 rows x 5 columns]\n"
     ]
    }
   ],
   "source": [
    "df = pd.DataFrame({\"Random\":s, \"RandInt\":s1, \"Normal\":s2, \"Uniform\":s3, \"Binomial\":s4})\n",
    "print(df)"
   ]
  },
  {
   "cell_type": "code",
   "execution_count": 10,
   "metadata": {},
   "outputs": [
    {
     "name": "stdout",
     "output_type": "stream",
     "text": [
      "     Random  RandInt    Normal   Uniform  Binomial\n",
      "0 -1.206576       29 -1.614901  0.724084         0\n",
      "1  1.955862       17  0.510943  0.845493         0\n",
      "2  0.602736       78  0.054672  0.409102         0\n",
      "3 -0.233825       15  1.219210  0.856543         0\n",
      "4 -0.263275       22  0.535132  0.482032         0\n"
     ]
    }
   ],
   "source": [
    "print(df.head(5))"
   ]
  },
  {
   "cell_type": "code",
   "execution_count": 9,
   "metadata": {},
   "outputs": [
    {
     "name": "stdout",
     "output_type": "stream",
     "text": [
      "      Random  RandInt    Normal   Uniform  Binomial\n",
      "95 -0.658316       42  0.567436  0.615567         0\n",
      "96  1.483740       25  0.035844  0.459035         0\n",
      "97 -0.078586       81 -0.238108  0.133608         0\n",
      "98  0.652969       33  1.280115  0.361999         0\n",
      "99  0.898487       40 -0.580155  0.905068         1\n"
     ]
    }
   ],
   "source": [
    "print(df.tail(5))"
   ]
  },
  {
   "cell_type": "markdown",
   "metadata": {},
   "source": [
    "#### 2. Indexando Variables:\n",
    "\n",
    "En pandas podemos indexar de multiples formas, en algunos casos queremos indexar solo columnas y quedarnos con toda la serie de datos que esta abarca. Para ello debemos colocar entre corchetes la lista de variables que deseamos indexar."
   ]
  },
  {
   "cell_type": "code",
   "execution_count": 12,
   "metadata": {},
   "outputs": [
    {
     "data": {
      "text/plain": [
       "0    0.724084\n",
       "1    0.845493\n",
       "2    0.409102\n",
       "3    0.856543\n",
       "4    0.482032\n",
       "Name: Uniform, dtype: float64"
      ]
     },
     "execution_count": 12,
     "metadata": {},
     "output_type": "execute_result"
    }
   ],
   "source": [
    "df['Uniform'].head() #Indexando una sola columna"
   ]
  },
  {
   "cell_type": "code",
   "execution_count": 14,
   "metadata": {
    "scrolled": true
   },
   "outputs": [
    {
     "data": {
      "text/html": [
       "<div>\n",
       "<style scoped>\n",
       "    .dataframe tbody tr th:only-of-type {\n",
       "        vertical-align: middle;\n",
       "    }\n",
       "\n",
       "    .dataframe tbody tr th {\n",
       "        vertical-align: top;\n",
       "    }\n",
       "\n",
       "    .dataframe thead th {\n",
       "        text-align: right;\n",
       "    }\n",
       "</style>\n",
       "<table border=\"1\" class=\"dataframe\">\n",
       "  <thead>\n",
       "    <tr style=\"text-align: right;\">\n",
       "      <th></th>\n",
       "      <th>Uniform</th>\n",
       "      <th>Normal</th>\n",
       "      <th>Binomial</th>\n",
       "    </tr>\n",
       "  </thead>\n",
       "  <tbody>\n",
       "    <tr>\n",
       "      <th>0</th>\n",
       "      <td>0.724084</td>\n",
       "      <td>-1.614901</td>\n",
       "      <td>0</td>\n",
       "    </tr>\n",
       "    <tr>\n",
       "      <th>1</th>\n",
       "      <td>0.845493</td>\n",
       "      <td>0.510943</td>\n",
       "      <td>0</td>\n",
       "    </tr>\n",
       "    <tr>\n",
       "      <th>2</th>\n",
       "      <td>0.409102</td>\n",
       "      <td>0.054672</td>\n",
       "      <td>0</td>\n",
       "    </tr>\n",
       "    <tr>\n",
       "      <th>3</th>\n",
       "      <td>0.856543</td>\n",
       "      <td>1.219210</td>\n",
       "      <td>0</td>\n",
       "    </tr>\n",
       "    <tr>\n",
       "      <th>4</th>\n",
       "      <td>0.482032</td>\n",
       "      <td>0.535132</td>\n",
       "      <td>0</td>\n",
       "    </tr>\n",
       "  </tbody>\n",
       "</table>\n",
       "</div>"
      ],
      "text/plain": [
       "    Uniform    Normal  Binomial\n",
       "0  0.724084 -1.614901         0\n",
       "1  0.845493  0.510943         0\n",
       "2  0.409102  0.054672         0\n",
       "3  0.856543  1.219210         0\n",
       "4  0.482032  0.535132         0"
      ]
     },
     "execution_count": 14,
     "metadata": {},
     "output_type": "execute_result"
    }
   ],
   "source": [
    "df[['Uniform', 'Normal', 'Binomial']].head() # Indexando mas columnas"
   ]
  },
  {
   "cell_type": "code",
   "execution_count": 16,
   "metadata": {},
   "outputs": [
    {
     "data": {
      "text/html": [
       "<div>\n",
       "<style scoped>\n",
       "    .dataframe tbody tr th:only-of-type {\n",
       "        vertical-align: middle;\n",
       "    }\n",
       "\n",
       "    .dataframe tbody tr th {\n",
       "        vertical-align: top;\n",
       "    }\n",
       "\n",
       "    .dataframe thead th {\n",
       "        text-align: right;\n",
       "    }\n",
       "</style>\n",
       "<table border=\"1\" class=\"dataframe\">\n",
       "  <thead>\n",
       "    <tr style=\"text-align: right;\">\n",
       "      <th></th>\n",
       "      <th>Uniform</th>\n",
       "      <th>Normal</th>\n",
       "      <th>Binomial</th>\n",
       "    </tr>\n",
       "  </thead>\n",
       "  <tbody>\n",
       "    <tr>\n",
       "      <th>0</th>\n",
       "      <td>0.724084</td>\n",
       "      <td>-1.614901</td>\n",
       "      <td>0</td>\n",
       "    </tr>\n",
       "    <tr>\n",
       "      <th>1</th>\n",
       "      <td>0.845493</td>\n",
       "      <td>0.510943</td>\n",
       "      <td>0</td>\n",
       "    </tr>\n",
       "    <tr>\n",
       "      <th>2</th>\n",
       "      <td>0.409102</td>\n",
       "      <td>0.054672</td>\n",
       "      <td>0</td>\n",
       "    </tr>\n",
       "    <tr>\n",
       "      <th>3</th>\n",
       "      <td>0.856543</td>\n",
       "      <td>1.219210</td>\n",
       "      <td>0</td>\n",
       "    </tr>\n",
       "    <tr>\n",
       "      <th>4</th>\n",
       "      <td>0.482032</td>\n",
       "      <td>0.535132</td>\n",
       "      <td>0</td>\n",
       "    </tr>\n",
       "  </tbody>\n",
       "</table>\n",
       "</div>"
      ],
      "text/plain": [
       "    Uniform    Normal  Binomial\n",
       "0  0.724084 -1.614901         0\n",
       "1  0.845493  0.510943         0\n",
       "2  0.409102  0.054672         0\n",
       "3  0.856543  1.219210         0\n",
       "4  0.482032  0.535132         0"
      ]
     },
     "execution_count": 16,
     "metadata": {},
     "output_type": "execute_result"
    }
   ],
   "source": [
    "variableNames=['Uniform', 'Normal', 'Binomial']\n",
    "df[variableNames].head()"
   ]
  },
  {
   "cell_type": "markdown",
   "metadata": {},
   "source": [
    "#### 3. Indexando filas:\n",
    "\n",
    "Así como indexamos columnas, tambien es posible cortar o indexar filas. Para ello utilizamos los comandos 'loc' o 'iloc'. El comando 'loc' permite indexar filas utilizando el indice de la fila (o un boolean array que seleccione las filas que queremos) en el dataframe y columnas usando los nombres de las columnas que queremos incluir en el corte. El comando 'iloc' por su parte permite indexar o cortar la base de datos como si estuvieramos cortando una matriz en numpy utilizando entradas ordinales empezando desde la entrada 0 en adelante."
   ]
  },
  {
   "cell_type": "code",
   "execution_count": 21,
   "metadata": {},
   "outputs": [
    {
     "name": "stdout",
     "output_type": "stream",
     "text": [
      "     Random  RandInt    Normal   Uniform  Binomial\n",
      "1  1.955862       17  0.510943  0.845493         0\n",
      "2  0.602736       78  0.054672  0.409102         0\n",
      "3 -0.233825       15  1.219210  0.856543         0\n",
      "4 -0.263275       22  0.535132  0.482032         0\n",
      "5  0.548485       81  1.017062  0.963790         0\n"
     ]
    }
   ],
   "source": [
    "# Desde la 2da fila hasta la 6ta\n",
    "print(df.loc[1:5, :])"
   ]
  },
  {
   "cell_type": "code",
   "execution_count": 22,
   "metadata": {},
   "outputs": [
    {
     "name": "stdout",
     "output_type": "stream",
     "text": [
      "     Normal  Binomial\n",
      "1  0.510943         0\n",
      "2  0.054672         0\n",
      "3  1.219210         0\n",
      "4  0.535132         0\n",
      "5  1.017062         0\n"
     ]
    }
   ],
   "source": [
    "# Desde la 2da fila hasta la 6ta incluyendo solo las variables Normal y Binomial\n",
    "print(df.loc[1:5, ['Normal', 'Binomial']])"
   ]
  },
  {
   "cell_type": "code",
   "execution_count": 25,
   "metadata": {},
   "outputs": [
    {
     "name": "stdout",
     "output_type": "stream",
     "text": [
      "      Random  RandInt    Normal   Uniform  Binomial\n",
      "2   0.602736       78  0.054672  0.409102         0\n",
      "5   0.548485       81  1.017062  0.963790         0\n",
      "6  -0.719832       46  0.335371  0.043163         0\n",
      "8   0.589355       34  2.405400  0.453044         0\n",
      "9   0.877465       37  1.113587  0.738872         1\n",
      "..       ...      ...       ...       ...       ...\n",
      "93 -1.812102       98  0.322207  0.758578         0\n",
      "95 -0.658316       42  0.567436  0.615567         0\n",
      "97 -0.078586       81 -0.238108  0.133608         0\n",
      "98  0.652969       33  1.280115  0.361999         0\n",
      "99  0.898487       40 -0.580155  0.905068         1\n",
      "\n",
      "[68 rows x 5 columns]\n"
     ]
    }
   ],
   "source": [
    "# Si queremos solo las filas que tienen valores para RandInt mayor a 30\n",
    "df3 = df.loc[df['RandInt'] > 30, :]\n",
    "print(df3)"
   ]
  },
  {
   "cell_type": "code",
   "execution_count": 27,
   "metadata": {},
   "outputs": [
    {
     "name": "stdout",
     "output_type": "stream",
     "text": [
      "      Random  RandInt    Normal   Uniform  Binomial\n",
      "9   0.877465       37  1.113587  0.738872         1\n",
      "13  0.131757       80 -0.247813  0.988276         1\n",
      "15  0.829685       96  0.063936  0.119724         1\n",
      "20 -0.174764       78  0.275353  0.421016         1\n",
      "21 -0.319370       66  0.592553  0.462788         1\n",
      "26  0.939473       56 -1.217726  0.813035         1\n",
      "36  0.025737       91  0.290470  0.626565         1\n",
      "45  0.451145       68 -1.806502  0.896124         1\n",
      "52  0.740298       95 -1.480832  0.762288         1\n",
      "62  0.910093       62  0.116282  0.365833         1\n",
      "73 -0.393653       57 -1.167523  0.596135         1\n",
      "77  1.388732       97  0.683599  0.902483         1\n",
      "99  0.898487       40 -0.580155  0.905068         1\n"
     ]
    }
   ],
   "source": [
    "# Si queremos agregar mas condicionales\n",
    "df4 = df.loc[(df['RandInt'] > 30) & (df['Binomial'] == 1), :]\n",
    "print(df4)"
   ]
  },
  {
   "cell_type": "code",
   "execution_count": 28,
   "metadata": {},
   "outputs": [
    {
     "name": "stdout",
     "output_type": "stream",
     "text": [
      "      Normal   Uniform\n",
      "9   1.113587  0.738872\n",
      "13 -0.247813  0.988276\n",
      "15  0.063936  0.119724\n",
      "20  0.275353  0.421016\n",
      "21  0.592553  0.462788\n",
      "26 -1.217726  0.813035\n",
      "36  0.290470  0.626565\n",
      "45 -1.806502  0.896124\n",
      "52 -1.480832  0.762288\n",
      "62  0.116282  0.365833\n",
      "73 -1.167523  0.596135\n",
      "77  0.683599  0.902483\n",
      "99 -0.580155  0.905068\n"
     ]
    }
   ],
   "source": [
    "# Si queremos las condiciones anteriores pero solo necesitamos una variable especifica:\n",
    "df5 = df.loc[(df['RandInt'] > 30) & (df['Binomial'] == 1), ['Normal', 'Uniform']]\n",
    "print(df5)"
   ]
  },
  {
   "cell_type": "markdown",
   "metadata": {},
   "source": [
    "#### 4. Renombrando variables\n",
    "\n",
    "Podemos renombrar las variables en una base de datos de dos formas. La primera es utilizando el método rename, e introduciendo como insumo un diccionario con los nombres que queremos reemplazar y sus reemplazos. La segunda es usar el metodo columns y reemplazar el resultado con una lista con los nuevos nombres de variable."
   ]
  },
  {
   "cell_type": "code",
   "execution_count": 31,
   "metadata": {},
   "outputs": [
    {
     "name": "stdout",
     "output_type": "stream",
     "text": [
      "   Random Variable  Random Integer    Normal   Uniform  Binomial\n",
      "0        -1.206576              29 -1.614901  0.724084         0\n",
      "1         1.955862              17  0.510943  0.845493         0\n",
      "2         0.602736              78  0.054672  0.409102         0\n",
      "3        -0.233825              15  1.219210  0.856543         0\n",
      "4        -0.263275              22  0.535132  0.482032         0\n"
     ]
    }
   ],
   "source": [
    "df = df.rename(columns={'Random': 'Random Variable', 'RandInt': 'Random Integer'})\n",
    "print(df.head())"
   ]
  },
  {
   "cell_type": "code",
   "execution_count": 34,
   "metadata": {},
   "outputs": [
    {
     "name": "stdout",
     "output_type": "stream",
     "text": [
      "   Random Variable  Random Integer    Normal   Uniform  Binomial\n",
      "0        -1.206576              29 -1.614901  0.724084         0\n",
      "1         1.955862              17  0.510943  0.845493         0\n",
      "2         0.602736              78  0.054672  0.409102         0\n",
      "3        -0.233825              15  1.219210  0.856543         0\n",
      "4        -0.263275              22  0.535132  0.482032         0\n"
     ]
    }
   ],
   "source": [
    "df.columns = ['Random Variable', 'Random Integer', 'Normal', 'Uniform', 'Binomial']\n",
    "print(df.head())"
   ]
  },
  {
   "cell_type": "markdown",
   "metadata": {},
   "source": [
    "#### 5. Emparejando (Merging) bases de datos: \n",
    "\n",
    "El emparejamiento de datos es el proceso de combinar dos o más conjuntos de datos en una sola base de datos. A menudo, este proceso es necesario cuando tiene datos sin procesar almacenados en múltiples archivos, que el usuario desea analizar de manera simultanea. Por lo general hacemos merge de dos bases de datos en base a un indicador clave (key variable) que tengan en comun ambas bases de datos. \n",
    "\n",
    "<img src=\"merge_structure.png\" alt=\"Drawing\" style=\"width: 500px;\">\n"
   ]
  },
  {
   "cell_type": "code",
   "execution_count": 37,
   "metadata": {},
   "outputs": [],
   "source": [
    "dfNew = pd.DataFrame({'Integers': range(100), 'Name': ['Worker Number ' + str(ii) for ii in range(100)]})"
   ]
  },
  {
   "cell_type": "code",
   "execution_count": 39,
   "metadata": {},
   "outputs": [
    {
     "data": {
      "text/plain": [
       "both          100\n",
       "right_only      0\n",
       "left_only       0\n",
       "Name: _merge, dtype: int64"
      ]
     },
     "execution_count": 39,
     "metadata": {},
     "output_type": "execute_result"
    }
   ],
   "source": [
    "dfMerged1 = pd.merge(df,dfNew, left_on='Random Integer', right_on = 'Integers', how= 'inner', indicator=True)\n",
    "dfMerged1._merge.value_counts()"
   ]
  },
  {
   "cell_type": "code",
   "execution_count": 41,
   "metadata": {},
   "outputs": [
    {
     "data": {
      "text/plain": [
       "both          100\n",
       "right_only     35\n",
       "left_only       0\n",
       "Name: _merge, dtype: int64"
      ]
     },
     "execution_count": 41,
     "metadata": {},
     "output_type": "execute_result"
    }
   ],
   "source": [
    "dfMerged2 = pd.merge(df,dfNew, left_on='Random Integer', right_on = 'Integers', how= 'right', indicator=True)\n",
    "dfMerged2._merge.value_counts()"
   ]
  },
  {
   "cell_type": "code",
   "execution_count": 43,
   "metadata": {},
   "outputs": [
    {
     "data": {
      "text/plain": [
       "both          100\n",
       "right_only      0\n",
       "left_only       0\n",
       "Name: _merge, dtype: int64"
      ]
     },
     "execution_count": 43,
     "metadata": {},
     "output_type": "execute_result"
    }
   ],
   "source": [
    "dfMerged3 = pd.merge(df,dfNew, left_on='Random Integer', right_on = 'Integers', how= 'left', indicator=True)\n",
    "dfMerged3._merge.value_counts()"
   ]
  },
  {
   "cell_type": "markdown",
   "metadata": {},
   "source": [
    "#### 6. Otros Métodos:"
   ]
  },
  {
   "cell_type": "code",
   "execution_count": 45,
   "metadata": {},
   "outputs": [],
   "source": [
    "# Eliminar una variable:\n",
    "dfMerged3.drop(columns=['_merge'], inplace = True)\n",
    "\n",
    "dfMergedCopy = dfMerged3.copy()"
   ]
  },
  {
   "cell_type": "code",
   "execution_count": 46,
   "metadata": {},
   "outputs": [],
   "source": [
    "# Sobreponer dataframes:\n",
    "dfAppend = dfMerged3.append(dfMergedCopy)\n"
   ]
  },
  {
   "cell_type": "code",
   "execution_count": 48,
   "metadata": {},
   "outputs": [
    {
     "name": "stdout",
     "output_type": "stream",
     "text": [
      "Index(['Random Variable', 'Random Integer', 'Normal', 'Uniform', 'Binomial',\n",
      "       'Integers', 'Name'],\n",
      "      dtype='object')\n",
      "(Binomial == 1) & (Normal <= 1) & (Uniform >= 0.5)\n",
      "    Random Variable  Random Integer    Normal   Uniform  Binomial  Integers  \\\n",
      "13         0.131757              80 -0.247813  0.988276         1        80   \n",
      "26         0.939473              56 -1.217726  0.813035         1        56   \n",
      "33         0.280138              26 -0.402512  0.829243         1        26   \n",
      "36         0.025737              91  0.290470  0.626565         1        91   \n",
      "42         0.207308              22  0.724003  0.813287         1        22   \n",
      "45         0.451145              68 -1.806502  0.896124         1        68   \n",
      "52         0.740298              95 -1.480832  0.762288         1        95   \n",
      "53        -0.066850              14  0.317697  0.774299         1        14   \n",
      "73        -0.393653              57 -1.167523  0.596135         1        57   \n",
      "77         1.388732              97  0.683599  0.902483         1        97   \n",
      "92        -0.295939              19 -1.009371  0.621185         1        19   \n",
      "99         0.898487              40 -0.580155  0.905068         1        40   \n",
      "13         0.131757              80 -0.247813  0.988276         1        80   \n",
      "26         0.939473              56 -1.217726  0.813035         1        56   \n",
      "33         0.280138              26 -0.402512  0.829243         1        26   \n",
      "36         0.025737              91  0.290470  0.626565         1        91   \n",
      "42         0.207308              22  0.724003  0.813287         1        22   \n",
      "45         0.451145              68 -1.806502  0.896124         1        68   \n",
      "52         0.740298              95 -1.480832  0.762288         1        95   \n",
      "53        -0.066850              14  0.317697  0.774299         1        14   \n",
      "73        -0.393653              57 -1.167523  0.596135         1        57   \n",
      "77         1.388732              97  0.683599  0.902483         1        97   \n",
      "92        -0.295939              19 -1.009371  0.621185         1        19   \n",
      "99         0.898487              40 -0.580155  0.905068         1        40   \n",
      "\n",
      "                Name  \n",
      "13  Worker Number 80  \n",
      "26  Worker Number 56  \n",
      "33  Worker Number 26  \n",
      "36  Worker Number 91  \n",
      "42  Worker Number 22  \n",
      "45  Worker Number 68  \n",
      "52  Worker Number 95  \n",
      "53  Worker Number 14  \n",
      "73  Worker Number 57  \n",
      "77  Worker Number 97  \n",
      "92  Worker Number 19  \n",
      "99  Worker Number 40  \n",
      "13  Worker Number 80  \n",
      "26  Worker Number 56  \n",
      "33  Worker Number 26  \n",
      "36  Worker Number 91  \n",
      "42  Worker Number 22  \n",
      "45  Worker Number 68  \n",
      "52  Worker Number 95  \n",
      "53  Worker Number 14  \n",
      "73  Worker Number 57  \n",
      "77  Worker Number 97  \n",
      "92  Worker Number 19  \n",
      "99  Worker Number 40  \n"
     ]
    }
   ],
   "source": [
    "# Query un Dataframe:\n",
    "\n",
    "print(dfAppend.columns)\n",
    "\n",
    "q = ('(Binomial == %s) ' '& (Normal <= %s) ' '& (Uniform >= %s)') % (1,1,.5)\n",
    "print(q)\n",
    "reportCases = dfAppend.query(q)\n",
    "print(reportCases)\n"
   ]
  },
  {
   "cell_type": "code",
   "execution_count": null,
   "metadata": {},
   "outputs": [],
   "source": []
  }
 ],
 "metadata": {
  "kernelspec": {
   "display_name": "Python 3",
   "language": "python",
   "name": "python3"
  },
  "language_info": {
   "codemirror_mode": {
    "name": "ipython",
    "version": 3
   },
   "file_extension": ".py",
   "mimetype": "text/x-python",
   "name": "python",
   "nbconvert_exporter": "python",
   "pygments_lexer": "ipython3",
   "version": "3.7.6"
  }
 },
 "nbformat": 4,
 "nbformat_minor": 4
}
