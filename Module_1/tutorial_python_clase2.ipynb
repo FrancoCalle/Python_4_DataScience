{
 "cells": [
  {
   "cell_type": "markdown",
   "metadata": {},
   "source": [
    "# Python para Economistas: Segunda Clase\n",
    "\n",
    "#### 1. Listas\n",
    "\n",
    "    Las listas son objetos mutables e iterables en python. Son muy versátiles pues permiten coleccionar de manera ordenada cualquier objeto (incluso otras listas). Las listas además te permiten acceder a los elementos que contiene adentro utilizando índices. "
   ]
  },
  {
   "cell_type": "code",
   "execution_count": 1,
   "metadata": {},
   "outputs": [
    {
     "name": "stdout",
     "output_type": "stream",
     "text": [
      "['manzana', 'banana', 'durazno']\n"
     ]
    }
   ],
   "source": [
    "frutas = ['manzana', 'banana', 'durazno']\n",
    "print(frutas)"
   ]
  },
  {
   "cell_type": "code",
   "execution_count": 2,
   "metadata": {},
   "outputs": [
    {
     "name": "stdout",
     "output_type": "stream",
     "text": [
      "['cerdo', 'vaca', 'pollo']\n"
     ]
    }
   ],
   "source": [
    "carnes = list(['cerdo', 'vaca', 'pollo'])\n",
    "print(carnes)"
   ]
  },
  {
   "cell_type": "code",
   "execution_count": 3,
   "metadata": {},
   "outputs": [
    {
     "name": "stdout",
     "output_type": "stream",
     "text": [
      "[123, ['Python', 'Stata'], 'iPhone']\n"
     ]
    }
   ],
   "source": [
    "mix = [123, ['Python', 'Stata'], 'iPhone']\n",
    "print(mix)"
   ]
  },
  {
   "cell_type": "markdown",
   "metadata": {},
   "source": [
    "#### 2. Asignación como referencia o como valor\n",
    "    Muchos cometen el error de 'copiar' una lista de manera directa y luego editarla. El resultado es que todas las ediciones que hagamos en la lista referida se replicaran en la lista original. Esto ocurre cuando asignamos una lista como referencia en lugar de copiarla. \n",
    "    Cuando la asignamos como referencia lo unico que hace python es usar el nuevo nombre de variable para referenciar la variable original. Esto permite a python salvar memoria ram porque no estamos creando más objetos en el ambiente de python.\n",
    "    \n",
    "<img src=\"assign_reference.png\" alt=\"Drawing\" style=\"width: 600px;\">"
   ]
  },
  {
   "cell_type": "code",
   "execution_count": 4,
   "metadata": {},
   "outputs": [
    {
     "name": "stdout",
     "output_type": "stream",
     "text": [
      "miPrimeraLista : [3, 9, 3, 4, 5]\n",
      "miPrimeraLista1: [3, 9, 3, 4, 5]\n",
      "miPrimeraLista2: [1, 2, 3, 4, 5]\n"
     ]
    }
   ],
   "source": [
    "import copy\n",
    "\n",
    "miPrimeraLista = [1, 2, 3, 4, 5]\n",
    "miPrimeraLista1 = miPrimeraLista # Esto asigna como referencia\n",
    "miPrimeraLista2 = copy.copy(miPrimeraLista) # Esto asigna como valor\n",
    "#miPrimeraLista[0]\n",
    "miPrimeraLista[0] = 3\n",
    "miPrimeraLista[1] = 9\n",
    "\n",
    "print('miPrimeraLista :',miPrimeraLista)\n",
    "print('miPrimeraLista1:',miPrimeraLista1)\n",
    "print('miPrimeraLista2:',miPrimeraLista2)\n"
   ]
  },
  {
   "cell_type": "markdown",
   "metadata": {},
   "source": [
    "    "
   ]
  },
  {
   "cell_type": "markdown",
   "metadata": {},
   "source": [
    "    En el caso de listas de listas la función que nos permite copiar el objeto completo es la rutina deepcopy. Basicamente lo que hace deepcopy es copiar como valor no solo la lista inicial, sino tambien las listas que se contienen adentro."
   ]
  },
  {
   "cell_type": "code",
   "execution_count": 5,
   "metadata": {},
   "outputs": [
    {
     "name": "stdout",
     "output_type": "stream",
     "text": [
      "Lista original: [['Jose', 'Pablo'], [26, 24]]\n",
      "Lista copiada como referencia: [['Jose', 'Pablo'], [26, 24]]\n",
      "Lista copiada como valor: [['Jose', 'Pablo'], [26, 25]]\n"
     ]
    }
   ],
   "source": [
    "#List of lists:\n",
    "miSegundaLista = [[\"Jose\", \"Pablo\"], [26, 25]]\n",
    "miSegundaListaNombres = miSegundaLista # Esto asigna como referencia\n",
    "miSegundaListaNombres2 = copy.deepcopy(miSegundaLista) # Deepcopy asigna como valor las listas y sublistas\n",
    "miSegundaLista[1][1] = 24\n",
    "print('Lista original:',miSegundaLista)\n",
    "print('Lista copiada como referencia:',miSegundaListaNombres)\n",
    "print('Lista copiada como valor:',miSegundaListaNombres2)"
   ]
  },
  {
   "cell_type": "markdown",
   "metadata": {},
   "source": [
    "    Para eliminar elementos dentro de una lista, podemos indexar el objeto y con el comando del, podemos eliminar dicho objeto."
   ]
  },
  {
   "cell_type": "code",
   "execution_count": 6,
   "metadata": {},
   "outputs": [
    {
     "data": {
      "text/plain": [
       "[['Jose', 'Pablo']]"
      ]
     },
     "execution_count": 6,
     "metadata": {},
     "output_type": "execute_result"
    }
   ],
   "source": [
    "del miSegundaLista[1]\n",
    "miSegundaLista"
   ]
  },
  {
   "cell_type": "code",
   "execution_count": 7,
   "metadata": {},
   "outputs": [
    {
     "name": "stdout",
     "output_type": "stream",
     "text": [
      "[1, 2, 3, 4]\n"
     ]
    }
   ],
   "source": [
    "# Combinar listas\n",
    "mylist = [1, 2] + [3, 4]\n",
    "print(mylist)"
   ]
  },
  {
   "cell_type": "code",
   "execution_count": 8,
   "metadata": {},
   "outputs": [
    {
     "data": {
      "text/plain": [
       "[1, 2, 1, 2]"
      ]
     },
     "execution_count": 8,
     "metadata": {},
     "output_type": "execute_result"
    }
   ],
   "source": [
    "[1, 2]*2"
   ]
  },
  {
   "cell_type": "markdown",
   "metadata": {},
   "source": [
    "#### 3. Evaluando la existencia de objetos en una lista\n",
    "    \n",
    "    En python es posible evaluar la membresía de un elemento en colecciones de elementos como listas, sets, diccionarios y tuplas. Para ello existen los comandos \"in\", \"not in\". \n",
    "    Así mismo es posible evaluar si un objeto en python es identico a otro. Esta rutina evalúa si un objeto tiene el mismo valor y propiedades que otro, para ello se usa la rutina \"is\"."
   ]
  },
  {
   "cell_type": "code",
   "execution_count": 9,
   "metadata": {},
   "outputs": [
    {
     "name": "stdout",
     "output_type": "stream",
     "text": [
      "[1, 2, 3, 4]\n",
      "True\n",
      "False\n",
      "False\n",
      "True\n"
     ]
    }
   ],
   "source": [
    "# Evaluar si un objeto se encuentra en una lista\n",
    "print(mylist)\n",
    "print(1 in mylist)\n",
    "print(5 in mylist)\n",
    "print(1 not in mylist)\n",
    "print(5 not in mylist)"
   ]
  },
  {
   "cell_type": "code",
   "execution_count": 12,
   "metadata": {},
   "outputs": [
    {
     "name": "stdout",
     "output_type": "stream",
     "text": [
      "True\n",
      "False\n"
     ]
    }
   ],
   "source": [
    "print(5 is 5)\n",
    "print(5 is 5.)"
   ]
  },
  {
   "cell_type": "markdown",
   "metadata": {},
   "source": [
    "#### 4. Otros metodos para modificar listas.\n",
    "    \n",
    "    Existen además otros métodos que nos permiten modificar las listas. Por ejemplo, podemos obtener el valor máximo, el mínimo, el tamaño de la lista, así como tambien podemos agregar y remover elementos a una lista."
   ]
  },
  {
   "cell_type": "code",
   "execution_count": 14,
   "metadata": {},
   "outputs": [
    {
     "name": "stdout",
     "output_type": "stream",
     "text": [
      "4\n",
      "1\n",
      "4\n"
     ]
    }
   ],
   "source": [
    "# Metodos en listas\n",
    "print(len(mylist)) #Tamano de lista\n",
    "print(min(mylist)) #Valor minimo en la lista\n",
    "print(max(mylist)) #Valor maximo en la lista"
   ]
  },
  {
   "cell_type": "code",
   "execution_count": 15,
   "metadata": {},
   "outputs": [
    {
     "data": {
      "text/plain": [
       "[1, 2, 3, 4, 5]"
      ]
     },
     "execution_count": 15,
     "metadata": {},
     "output_type": "execute_result"
    }
   ],
   "source": [
    "# Metodos para agregar y eliminar elementos de una lista:\n",
    "mylist.append(5) #Agregar elemento\n",
    "mylist"
   ]
  },
  {
   "cell_type": "code",
   "execution_count": 16,
   "metadata": {},
   "outputs": [
    {
     "data": {
      "text/plain": [
       "[1, 2, 3, 4, 5, [6, 7]]"
      ]
     },
     "execution_count": 16,
     "metadata": {},
     "output_type": "execute_result"
    }
   ],
   "source": [
    "mylist.append([6,7])\n",
    "mylist"
   ]
  },
  {
   "cell_type": "code",
   "execution_count": 17,
   "metadata": {},
   "outputs": [
    {
     "data": {
      "text/plain": [
       "[1, 2, 3, 4, 5]"
      ]
     },
     "execution_count": 17,
     "metadata": {},
     "output_type": "execute_result"
    }
   ],
   "source": [
    "mylist.remove([6,7]) # Remover elemento\n",
    "mylist"
   ]
  },
  {
   "cell_type": "code",
   "execution_count": 18,
   "metadata": {},
   "outputs": [
    {
     "data": {
      "text/plain": [
       "[1, 2, 3, 4, 5, 6, 7]"
      ]
     },
     "execution_count": 18,
     "metadata": {},
     "output_type": "execute_result"
    }
   ],
   "source": [
    "mylist.extend([6,7]) # Extender lista con mas elementos\n",
    "mylist"
   ]
  },
  {
   "cell_type": "code",
   "execution_count": 19,
   "metadata": {},
   "outputs": [
    {
     "data": {
      "text/plain": [
       "[1, 10, 2, 3, 4, 5, 6, 7]"
      ]
     },
     "execution_count": 19,
     "metadata": {},
     "output_type": "execute_result"
    }
   ],
   "source": [
    "mylist.insert(1,10) # insert element to a list at a location other than the end\n",
    "mylist"
   ]
  },
  {
   "cell_type": "code",
   "execution_count": 21,
   "metadata": {},
   "outputs": [
    {
     "name": "stdout",
     "output_type": "stream",
     "text": [
      "[1, 2, 3, 4, 5, 6, 7, 10]\n"
     ]
    }
   ],
   "source": [
    "mylist.sort()\n",
    "print(mylist) # Ordenar lista de menor a mayor\n",
    "mylist.index(2) # Retorna el indice del valor que solicitamos\n"
   ]
  },
  {
   "cell_type": "code",
   "execution_count": 25,
   "metadata": {},
   "outputs": [
    {
     "data": {
      "text/plain": [
       "1"
      ]
     },
     "execution_count": 25,
     "metadata": {},
     "output_type": "execute_result"
    }
   ],
   "source": [
    "mylistExample = [1,2,2,4,2]\n",
    "mylistExample.index(2) # Retorna el indice del valor que solicitamos"
   ]
  },
  {
   "cell_type": "markdown",
   "metadata": {},
   "source": [
    "#### 4. Trabajando con tuplas.\n",
    "    \n",
    "    Las tuplas son colecciones ordenadas de elementos que son inmutables. El beneficio de que sea inmutable es que definir una tupla requiere poca memoria ram pues no tiene muchas rutinas asociadas a comparación de las listas. Usualmente definimos las tuplas entre paréntesis \"(,)\". "
   ]
  },
  {
   "cell_type": "code",
   "execution_count": 27,
   "metadata": {},
   "outputs": [
    {
     "name": "stdout",
     "output_type": "stream",
     "text": [
      "8048 9024\n"
     ]
    }
   ],
   "source": [
    "import sys\n",
    "\n",
    "# Uso de ram para tuplas vs listas:\n",
    "myTuple = tuple([i for i in range(1000)])\n",
    "myList  = [i for i in range(1000)]\n",
    "print(sys.getsizeof(myTuple),\n",
    "      sys.getsizeof(myList))"
   ]
  },
  {
   "cell_type": "code",
   "execution_count": 31,
   "metadata": {},
   "outputs": [
    {
     "data": {
      "text/plain": [
       "tuple"
      ]
     },
     "execution_count": 31,
     "metadata": {},
     "output_type": "execute_result"
    }
   ],
   "source": [
    "#Evaluando el tipo de elemento\n",
    "myTuple = 1,2,3\n",
    "#print(myTuple)\n",
    "type(myTuple)"
   ]
  },
  {
   "cell_type": "code",
   "execution_count": 32,
   "metadata": {},
   "outputs": [
    {
     "data": {
      "text/plain": [
       "(1, 2)"
      ]
     },
     "execution_count": 32,
     "metadata": {},
     "output_type": "execute_result"
    }
   ],
   "source": [
    "# Convirtiendo una lista en tupla\n",
    "tuple([1,2])"
   ]
  },
  {
   "cell_type": "code",
   "execution_count": 33,
   "metadata": {},
   "outputs": [
    {
     "data": {
      "text/plain": [
       "1"
      ]
     },
     "execution_count": 33,
     "metadata": {},
     "output_type": "execute_result"
    }
   ],
   "source": [
    "# Indexando una tupla\n",
    "myTuple[0]"
   ]
  },
  {
   "cell_type": "markdown",
   "metadata": {},
   "source": [
    "### 5. Diccionarios:\n",
    "\n",
    "    Los diccionarios son colecciones de elementos de manera no ordenada, son mutables y posibles de indexar. En python la forma de crear diccionarios es usando llaves \"{}\". Los diccionarios se utilizan para elaborar estructuras de datos que contienen multiples objetos y usualmente se pueden referenciar on un \"key name\" que suele ser un string. Por lo general los diccionarios siguen la siguiente estructura:\n",
    "    \n",
    "                                       dictorinary = { 'key1': obj1, \n",
    "                                                       'key2': obj2, \n",
    "                                                       'key3': obj3} \n",
    "\n",
    "\n",
    "    "
   ]
  },
  {
   "cell_type": "code",
   "execution_count": 35,
   "metadata": {},
   "outputs": [
    {
     "name": "stdout",
     "output_type": "stream",
     "text": [
      "perro\n"
     ]
    }
   ],
   "source": [
    "# Diccionarios\n",
    "miDict = {}\n",
    "\n",
    "miDict = {'a':'perro', 'b':'gato'}\n",
    "print(miDict['a'])"
   ]
  },
  {
   "cell_type": "code",
   "execution_count": 36,
   "metadata": {},
   "outputs": [
    {
     "name": "stdout",
     "output_type": "stream",
     "text": [
      "{'a': 'canario', 'b': 'gato', 'c': 'conejo'}\n"
     ]
    }
   ],
   "source": [
    "miDict['a'] = 'canario'\n",
    "miDict['c'] = 'conejo'\n",
    "\n",
    "print(miDict)"
   ]
  },
  {
   "cell_type": "code",
   "execution_count": 38,
   "metadata": {},
   "outputs": [
    {
     "name": "stdout",
     "output_type": "stream",
     "text": [
      "True False\n"
     ]
    }
   ],
   "source": [
    "#Acceder a llaves (keys) en los diccionarios:\n",
    "print('a' in miDict,\n",
    "'canario' in miDict)"
   ]
  },
  {
   "cell_type": "code",
   "execution_count": 39,
   "metadata": {},
   "outputs": [
    {
     "data": {
      "text/plain": [
       "['a', 'b', 'c']"
      ]
     },
     "execution_count": 39,
     "metadata": {},
     "output_type": "execute_result"
    }
   ],
   "source": [
    "list(miDict)"
   ]
  },
  {
   "cell_type": "code",
   "execution_count": 40,
   "metadata": {},
   "outputs": [
    {
     "data": {
      "text/plain": [
       "dict_keys(['a', 'b', 'c'])"
      ]
     },
     "execution_count": 40,
     "metadata": {},
     "output_type": "execute_result"
    }
   ],
   "source": [
    "miDict.keys()"
   ]
  },
  {
   "cell_type": "code",
   "execution_count": 41,
   "metadata": {},
   "outputs": [
    {
     "data": {
      "text/plain": [
       "dict_values(['canario', 'gato', 'conejo'])"
      ]
     },
     "execution_count": 41,
     "metadata": {},
     "output_type": "execute_result"
    }
   ],
   "source": [
    "miDict.values()"
   ]
  },
  {
   "cell_type": "code",
   "execution_count": 42,
   "metadata": {},
   "outputs": [
    {
     "data": {
      "text/plain": [
       "dict_items([('a', 'canario'), ('b', 'gato'), ('c', 'conejo')])"
      ]
     },
     "execution_count": 42,
     "metadata": {},
     "output_type": "execute_result"
    }
   ],
   "source": [
    "miDict.items()"
   ]
  }
 ],
 "metadata": {
  "kernelspec": {
   "display_name": "Python 3",
   "language": "python",
   "name": "python3"
  },
  "language_info": {
   "codemirror_mode": {
    "name": "ipython",
    "version": 3
   },
   "file_extension": ".py",
   "mimetype": "text/x-python",
   "name": "python",
   "nbconvert_exporter": "python",
   "pygments_lexer": "ipython3",
   "version": "3.7.6"
  }
 },
 "nbformat": 4,
 "nbformat_minor": 4
}
