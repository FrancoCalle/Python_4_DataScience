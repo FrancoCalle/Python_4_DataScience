{
 "cells": [
  {
   "cell_type": "markdown",
   "metadata": {},
   "source": [
    "# Python para Economistas: Septima Clase\n",
    "\n",
    "### El problema de predicción:\n",
    "\n",
    "Usualmente los investigadores y analistas buscan construir herramientas que permitan predecir que es lo que va a ocurrir (por ejemplo si una persona será admitida a algun programa, o si un estudiante desertará de la escuela, entre otros) en base a características (a las cuales llamaremos variables explicativas). Esta predicción permite al usuario o al proveedor planificar y tomar decisiones hoy, anticipandose (con cierto grado de confianza) a lo que pueda ocurrir en el futuro.\n",
    "\n",
    "<img src=\"decision_making_flow.png\" alt=\"Drawing\" style=\"width: 600px;\">\n"
   ]
  },
  {
   "cell_type": "code",
   "execution_count": 3,
   "metadata": {},
   "outputs": [
    {
     "name": "stdout",
     "output_type": "stream",
     "text": [
      "[1 1 1 1 1 1 0 1 1 0 0 1 1 1 1 0 0 1 0 0 0 0 0 0 0 1 1 0 1 1 0 0 1 1 1 0 0\n",
      " 0 0 1]\n",
      "[[0.06125691 0.93874309]\n",
      " [0.04972595 0.95027405]\n",
      " [0.47598029 0.52401971]\n",
      " [0.05410438 0.94589562]\n",
      " [0.2103416  0.7896584 ]\n",
      " [0.01310386 0.98689614]\n",
      " [0.93509143 0.06490857]\n",
      " [0.1431864  0.8568136 ]\n",
      " [0.03734436 0.96265564]\n",
      " [0.95816861 0.04183139]\n",
      " [0.90268274 0.09731726]\n",
      " [0.08345847 0.91654153]\n",
      " [0.02070011 0.97929989]\n",
      " [0.29751584 0.70248416]\n",
      " [0.12390186 0.87609814]\n",
      " [0.98177383 0.01822617]\n",
      " [0.87317758 0.12682242]\n",
      " [0.07857828 0.92142172]\n",
      " [0.99223422 0.00776578]\n",
      " [0.95264162 0.04735838]\n",
      " [0.9259915  0.0740085 ]\n",
      " [0.99325265 0.00674735]\n",
      " [0.94959431 0.05040569]\n",
      " [0.99636402 0.00363598]\n",
      " [0.98056281 0.01943719]\n",
      " [0.06801174 0.93198826]\n",
      " [0.33107257 0.66892743]\n",
      " [0.98564866 0.01435134]\n",
      " [0.07857828 0.92142172]\n",
      " [0.19945909 0.80054091]\n",
      " [0.96405174 0.03594826]\n",
      " [0.95213842 0.04786158]\n",
      " [0.28187215 0.71812785]\n",
      " [0.08431131 0.91568869]\n",
      " [0.13532934 0.86467066]\n",
      " [0.97334034 0.02665966]\n",
      " [0.86152332 0.13847668]\n",
      " [0.98848001 0.01151999]\n",
      " [0.92199201 0.07800799]\n",
      " [0.08345847 0.91654153]]\n"
     ]
    },
    {
     "name": "stderr",
     "output_type": "stream",
     "text": [
      "C:\\Users\\ffalcon\\Anaconda3\\lib\\site-packages\\sklearn\\utils\\validation.py:760: DataConversionWarning: A column-vector y was passed when a 1d array was expected. Please change the shape of y to (n_samples, ), for example using ravel().\n",
      "  y = column_or_1d(y, warn=True)\n"
     ]
    }
   ],
   "source": [
    "import pandas as pd\n",
    "import numpy as np\n",
    "import matplotlib.pyplot as plt\n",
    "from sklearn.datasets import load_iris\n",
    "from sklearn.linear_model import LogisticRegression\n",
    "from sklearn.metrics import confusion_matrix\n",
    "from sklearn.metrics import plot_precision_recall_curve\n",
    "from sklearn import metrics\n",
    "\n",
    "# Problema de prediccion binaria:\n",
    "\n",
    "# Definimos o cargamos base de datos:\n",
    "\n",
    "candidates = {'Puntaje Examen': [780,750,690,710,680,730,690,720,740,690,610,690,710,680,770,610,580,650,540,590,620,600,550,550,570,670,660,580,650,660,640,620,660,660,680,650,670,580,590,690],\n",
    "              'GPA': [4,3.9,3.3,3.7,3.9,3.7,2.3,3.3,3.3,1.7,2.7,3.7,3.7,3.3,3.3,3,2.7,3.7,2.7,2.3,3.3,2,2.3,2.7,3,3.3,3.7,2.3,3.7,3.3,3,2.7,4,3.3,3.3,2.3,2.7,3.3,1.7,3.7],\n",
    "              'Experiencia Laboral': [3,4,3,5,4,6,1,4,5,1,3,5,6,4,3,1,4,6,2,3,2,1,4,1,2,6,4,2,6,5,1,2,4,6,5,1,2,1,4,5],\n",
    "              'Admitido': [1,1,0,1,0,1,0,1,1,0,0,1,1,0,1,0,0,1,0,0,1,0,0,0,0,1,1,0,1,1,0,0,1,1,1,0,0,0,0,1]\n",
    "              } # Fuente \"https://datatofish.com/logistic-regression-python/\"\n",
    "\n",
    "df = pd.DataFrame(candidates)\n",
    "\n",
    "X = df[['Puntaje Examen', 'GPA', 'Experiencia Laboral']]\n",
    "Y = df[['Admitido']]\n",
    "\n",
    "clf = LogisticRegression(random_state=0).fit(X, Y) # Definir el problema\n",
    "#print(clf.coef_)\n",
    "print(clf.predict(X)) #Predecir el modelo\n",
    "Y_score = clf.predict_proba(X)\n",
    "print(Y_score)"
   ]
  },
  {
   "cell_type": "markdown",
   "metadata": {},
   "source": [
    "#### Thresholding:\n",
    "\n",
    "El score estimado vía el modelo de predicción permite al investigador determinar posibles eventos positivos o negativos. Esto se puede si suponemos que a partir de determinado umbral de probabilidad, el evento es clasificado como positivo. "
   ]
  },
  {
   "cell_type": "code",
   "execution_count": 5,
   "metadata": {},
   "outputs": [
    {
     "name": "stdout",
     "output_type": "stream",
     "text": [
      "[ True  True  True  True  True  True False  True  True False False  True\n",
      "  True  True  True False False  True False False False False False False\n",
      " False  True  True False  True  True False False  True  True  True False\n",
      " False False False  True]\n"
     ]
    }
   ],
   "source": [
    "Y=np.array(Y).reshape(Y.shape[0])\n",
    "Y_hat=np.array(Y_score[:,1])\n",
    "\n",
    "# Convert our Thresholded prob to boolean\n",
    "threshold = .5\n",
    "Y = Y.astype(bool)\n",
    "Y_hat = (Y_hat>threshold).astype(bool)\n",
    "print(Y_hat)"
   ]
  },
  {
   "cell_type": "markdown",
   "metadata": {},
   "source": [
    "#### Confusion Matrix:\n",
    "\n",
    "La matriz de confusion es una matriz que indica todos los posibles escenarios de éxito y fracaso de nuestra predicción. Esta matrix tiene 4 cuadrantes y cada uno tiene un significado.\n",
    "\n",
    "Verdaderos Positivos: El número de positivos que logramos predecir de manera acertada.\n",
    "\n",
    "Falsos Positivos: El número de positivos que predijimos de manera erronea (Eran negativos).\n",
    "\n",
    "Verdaderos Negativos: El número de predicciones negativas que efectivamente eran negativas.\n",
    "\n",
    "Falsos Positivos: El número de predicciones negativas que en verdad eran positivas.\n",
    "\n",
    "<img src=\"confusionMatrxiUpdated.png\" alt=\"Drawing\" style=\"width: 600px;\">"
   ]
  },
  {
   "cell_type": "code",
   "execution_count": 6,
   "metadata": {},
   "outputs": [],
   "source": [
    "def getConfusionMatrix(Y, Y_hat):\n",
    "\n",
    "    TP = Y[Y_hat == True].sum()\n",
    "    FP = (~Y[Y_hat == True]).sum()\n",
    "    FN = Y[Y_hat == False].sum()\n",
    "    TN = (~Y[Y_hat == False]).sum()\n",
    "\n",
    "    confusionMatrix = np.array([[TP, FP], [FN, TN]])\n",
    "\n",
    "    return confusionMatrix"
   ]
  },
  {
   "cell_type": "code",
   "execution_count": 7,
   "metadata": {},
   "outputs": [
    {
     "name": "stdout",
     "output_type": "stream",
     "text": [
      "[[18  3]\n",
      " [ 1 18]]\n"
     ]
    }
   ],
   "source": [
    "#Get confusion matrix using our function\n",
    "myConfusionMatrix = getConfusionMatrix(Y, Y_hat)\n",
    "print(myConfusionMatrix)"
   ]
  },
  {
   "cell_type": "code",
   "execution_count": 8,
   "metadata": {},
   "outputs": [
    {
     "name": "stdout",
     "output_type": "stream",
     "text": [
      "[[18  3]\n",
      " [ 1 18]]\n"
     ]
    }
   ],
   "source": [
    "#Get confusion matrix using scickitlearn function\n",
    "sklearnConfusionMatrix = confusion_matrix(Y, Y_hat)\n",
    "print(sklearnConfusionMatrix)"
   ]
  },
  {
   "cell_type": "code",
   "execution_count": 9,
   "metadata": {},
   "outputs": [
    {
     "data": {
      "text/plain": [
       "0.9"
      ]
     },
     "execution_count": 9,
     "metadata": {},
     "output_type": "execute_result"
    }
   ],
   "source": [
    "#Accuracy: % de resultados que el modelo predijo correctamente.\n",
    "clf.score(X, Y)"
   ]
  },
  {
   "cell_type": "markdown",
   "metadata": {},
   "source": [
    "#### Precision and Recall:\n",
    "\n",
    "Condicional a un umbral, precision y recall nos indican lo siguiente. \n",
    "\n",
    "Precision: ¿Qué proporción de identificaciones positivas fue realmente correcta?\n",
    "\n",
    "Recall: ¿Qué proporción de positivos reales se identificó correctamente?"
   ]
  },
  {
   "cell_type": "code",
   "execution_count": 8,
   "metadata": {},
   "outputs": [
    {
     "name": "stdout",
     "output_type": "stream",
     "text": [
      "Precision: 0.8571428571428571\n",
      "Recall: 0.9473684210526315\n"
     ]
    }
   ],
   "source": [
    "#Precision: Cuantos items seleccionados son relevantes\n",
    "def getPrecision(Y, Y_hat):\n",
    "\n",
    "    TP = Y[Y_hat == True].sum()\n",
    "    FP = (~Y[Y_hat == True]).sum()\n",
    "    precision = TP/(TP+FP)\n",
    "\n",
    "    return precision\n",
    "\n",
    "#Recall: Cuantos items relevantes son seleccionados\n",
    "def getRecall(Y, Y_hat):\n",
    "\n",
    "    TP = Y[Y_hat == True].sum()\n",
    "    FN = Y[Y_hat == False].sum()\n",
    "    recall = TP/(TP+FN)\n",
    "\n",
    "    return recall\n",
    "\n",
    "\n",
    "# Usamos las funciones basados en un thresholding de .5:\n",
    "\n",
    "print('Precision:',getPrecision(Y,Y_hat))\n",
    "print('Recall:',getRecall(Y,Y_hat))"
   ]
  },
  {
   "cell_type": "markdown",
   "metadata": {},
   "source": [
    "Es posible armar Precision-Recall curve, que indica para cada umbral cuales son las combinaciones de precision y recall que corresponden."
   ]
  },
  {
   "cell_type": "code",
   "execution_count": 16,
   "metadata": {},
   "outputs": [
    {
     "name": "stderr",
     "output_type": "stream",
     "text": [
      "C:\\Users\\ffalcon\\Anaconda3\\lib\\site-packages\\ipykernel_launcher.py:6: RuntimeWarning: invalid value encountered in long_scalars\n",
      "  \n"
     ]
    },
    {
     "data": {
      "image/png": "[encoded data removed]",
      "text/plain": [
       "<Figure size 432x288 with 1 Axes>"
      ]
     },
     "metadata": {
      "needs_background": "light"
     },
     "output_type": "display_data"
    }
   ],
   "source": [
    "def thresholdingPrecisionRecall(Y, Y_score):\n",
    "\n",
    "    thresholds = np.unique(Y_score)\n",
    "    precisionList = []\n",
    "    recallList = []\n",
    "\n",
    "    for tt in thresholds:\n",
    "\n",
    "        Y_hat = Y_score > tt\n",
    "        precision = getPrecision(Y,Y_hat)\n",
    "        recall = getRecall(Y,Y_hat)\n",
    "        precisionList.append(precision)\n",
    "        recallList.append(recall)\n",
    "\n",
    "    return precisionList, recallList\n",
    "\n",
    "\n",
    "precisionList, recallList = thresholdingPrecisionRecall(Y, Y_score[:,1])\n",
    "\n",
    "\n",
    "# Plot Results:\n",
    "plt.plot(recallList, precisionList)\n",
    "plt.xlabel('Recall')\n",
    "plt.ylabel('Precision')\n",
    "plt.show()"
   ]
  },
  {
   "cell_type": "code",
   "execution_count": 21,
   "metadata": {},
   "outputs": [
    {
     "data": {
      "text/plain": [
       "Text(0.5, 1.0, '2-class Precision-Recall curve')"
      ]
     },
     "execution_count": 21,
     "metadata": {},
     "output_type": "execute_result"
    },
    {
     "data": {
      "image/png": "[encoded data removed]",
      "text/plain": [
       "<Figure size 432x288 with 1 Axes>"
      ]
     },
     "metadata": {
      "needs_background": "light"
     },
     "output_type": "display_data"
    }
   ],
   "source": [
    "disp = plot_precision_recall_curve(LogisticRegression(random_state=0).fit(X,Y), X, Y)\n",
    "disp.ax_.set_title('2-class Precision-Recall curve')"
   ]
  },
  {
   "cell_type": "markdown",
   "metadata": {},
   "source": [
    "#### Receiving Operators Curve and the Area Under the Curve (AUC):\n",
    "\n",
    "La curva AUC - ROC es una medida de rendimiento para problemas de clasificación condicinal a distintos niveles del umbral de probabilidad. ROC es una curva de probabilidad y AUC representa el grado o medida de separación. Indica cuánto el modelo es capaz de distinguir entre categorías. A mayor AUC, mejor será el modelo para predecir 0s como 0s y 1s como 1s. Cuanto mayor sea el AUC, mejor será el modelo para distinguir entre ocurrencias positivas o negativas."
   ]
  },
  {
   "cell_type": "code",
   "execution_count": 9,
   "metadata": {},
   "outputs": [],
   "source": [
    "def getTruePositiveRate(Y, Y_hat):\n",
    "\n",
    "    TP = Y[Y_hat == True].sum()\n",
    "    FP = (~Y[Y_hat == True]).sum()\n",
    "    FN = Y[Y_hat == False].sum()\n",
    "    TN = (~Y[Y_hat == False]).sum()\n",
    "\n",
    "    tpr = TP/(TP+FN)\n",
    "\n",
    "    return tpr\n",
    "\n",
    "\n",
    "def getFalsePositiveRate(Y, Y_hat):\n",
    "\n",
    "    TP = Y[Y_hat == True].sum()\n",
    "    FP = (~Y[Y_hat == True]).sum()\n",
    "    FN = Y[Y_hat == False].sum()\n",
    "    TN = (~Y[Y_hat == False]).sum()\n",
    "\n",
    "    fpr = FP/(FP+TN)\n",
    "\n",
    "    return fpr\n",
    "\n",
    "def thresholdingAUC(Y, Y_score):\n",
    "\n",
    "    thresholds = np.unique(Y_score)\n",
    "    tprList = []\n",
    "    fprList = []\n",
    "\n",
    "    for tt in thresholds:\n",
    "\n",
    "        Y_hat = Y_score > tt\n",
    "        tpr = getTruePositiveRate(Y,Y_hat)\n",
    "        fpr = getFalsePositiveRate(Y,Y_hat)\n",
    "        tprList.append(tpr)\n",
    "        fprList.append(fpr)\n",
    "\n",
    "    return tprList, fprList\n",
    "\n",
    "\n",
    "tprList, fprList = thresholdingAUC(Y, Y_score[:,1])\n",
    "AUC = metrics.auc(fprList, tprList)\n"
   ]
  },
  {
   "cell_type": "code",
   "execution_count": 11,
   "metadata": {},
   "outputs": [
    {
     "data": {
      "image/png": "[encoded data removed]",
      "text/plain": [
       "<Figure size 432x288 with 1 Axes>"
      ]
     },
     "metadata": {
      "needs_background": "light"
     },
     "output_type": "display_data"
    }
   ],
   "source": [
    "# Plot the figure:\n",
    "plt.plot(fprList, tprList, label='ROC curve (area = %0.2f)' % AUC)\n",
    "plt.plot(fprList,fprList, linestyle='--')\n",
    "plt.xlabel('False Positive Rate')\n",
    "plt.ylabel('True Positive Rate')\n",
    "plt.title('Receiver operating characteristic example')\n",
    "plt.legend(loc=\"lower right\")\n",
    "plt.show()"
   ]
  }
 ],
 "metadata": {
  "kernelspec": {
   "display_name": "Python 3",
   "language": "python",
   "name": "python3"
  },
  "language_info": {
   "codemirror_mode": {
    "name": "ipython",
    "version": 3
   },
   "file_extension": ".py",
   "mimetype": "text/x-python",
   "name": "python",
   "nbconvert_exporter": "python",
   "pygments_lexer": "ipython3",
   "version": "3.7.6"
  }
 },
 "nbformat": 4,
 "nbformat_minor": 4
}
