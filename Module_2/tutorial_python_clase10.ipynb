{
 "cells": [
  {
   "cell_type": "markdown",
   "metadata": {},
   "source": [
    "# Métodos de Machine Learning para Regressión"
   ]
  },
  {
   "cell_type": "code",
   "execution_count": 2,
   "metadata": {},
   "outputs": [],
   "source": [
    "import copy\n",
    "import pandas as pd\n",
    "import numpy as np\n",
    "import seaborn as sns\n",
    "import matplotlib.pyplot as plt\n",
    "from scipy.stats import genextreme\n",
    "from matplotlib.colors import ListedColormap\n",
    "\n",
    "from sklearn import metrics\n",
    "from sklearn.datasets import load_iris\n",
    "from sklearn.model_selection import train_test_split\n",
    "from sklearn.linear_model import LogisticRegression\n",
    "from sklearn.neighbors import KNeighborsClassifier\n",
    "from sklearn import tree\n",
    "from sklearn.ensemble import RandomForestClassifier\n",
    "\n",
    "# Our Functions:\n",
    "from ml_tools import getTruePositiveRate\n",
    "from ml_tools import getFalsePositiveRate\n",
    "from ml_tools import thresholdingAUC\n",
    "from ml_tools import getMSE\n",
    "from ml_tools import getTSE\n",
    "from ml_tools import getR2\n",
    "\n",
    "\n",
    "# Load the Dataset:\n",
    "\n",
    "iris = load_iris()\n",
    "\n",
    "X = iris['data']\n",
    "X = X[:,:2] # Usamos ancho y largo de la planta\n",
    "Y = (iris['target'] == 2) #[setosa, versicolor, **virginica**]"
   ]
  },
  {
   "cell_type": "markdown",
   "metadata": {},
   "source": [
    "#### Validación Cruzada\n",
    "\n",
    "Estimar parámetros de un modelo en una base de datos y testear su poder predictivo con los mismos datos es un error en Machine Learning. Replicar la variable dependiente de la muestras que nuestro modelo acaba de usar tendría una puntuación perfecta por definición si es que tratamos de máximizar metricas de performace como el R2, AUC u otros. Este modelo muy probablemente tendría un problema de 'sobre-ajuste' y no podría predecir nada fuera de la muestra. \n",
    "\n",
    "Para evitar el sobre-ajuste se realizan los siguientes pasos: \n",
    "\n",
    "1. Dividir la muestra total en dos secciones, data de entrenamiento X_train, y_train y data de testeo X_test, y_test. \n",
    "2. Estimar los parámetros del modelo en base a la data de entrenamiento.\n",
    "3. Validar métricas de performance en base a data de testeo.\n",
    "4. Realizar los pasos del 1 al 3 con diferences muestras aleatorias de entrenamiento y testeo.\n",
    "5. Estimar el promedio y desviación estándar de las métricas de performance obtenidas.\n",
    "\n",
    "\n",
    "<img src=\"cross_validation.png\" alt=\"Drawing\" style=\"width: 600px;\">\n",
    "\n",
    "Fuente: https://scikit-learn.org/stable/modules/cross_validation.html"
   ]
  },
  {
   "cell_type": "code",
   "execution_count": 3,
   "metadata": {},
   "outputs": [],
   "source": [
    "# Separamos dataset en data de entrenamiento y prueba:\n",
    "X_train, X_test, Y_train, Y_test = train_test_split(X, Y, test_size=0.3, random_state=0)"
   ]
  },
  {
   "cell_type": "code",
   "execution_count": 4,
   "metadata": {},
   "outputs": [],
   "source": [
    "# Definimos la funcion a utilizar y estimamos el modelo \n",
    "clf = LogisticRegression(random_state=0).fit(X_train[:,:2], Y_train) # Definir el problema"
   ]
  },
  {
   "cell_type": "code",
   "execution_count": 5,
   "metadata": {},
   "outputs": [],
   "source": [
    "# Predecimos la probabilidad en la data de entrenamiento y la data de testeo:\n",
    "logitPredictionScoreTrain = clf.predict_proba(X_train)[:,1]\n",
    "logitPredictionScoreTest = clf.predict_proba(X_test)[:,1]"
   ]
  },
  {
   "cell_type": "code",
   "execution_count": 7,
   "metadata": {},
   "outputs": [],
   "source": [
    "#Prediction in sample\n",
    "tprListLogisticTrain,fprListLogisticTrain =  thresholdingAUC(Y_train,logitPredictionScoreTrain)\n",
    "AUC1 = metrics.auc(fprListLogisticTrain, tprListLogisticTrain)\n",
    "\n",
    "#Prediction out of sample\n",
    "tprListLogisticTest,fprListLogisticTest =  thresholdingAUC(Y_test,logitPredictionScoreTest)\n",
    "AUC2 = metrics.auc(fprListLogisticTest, tprListLogisticTest)"
   ]
  },
  {
   "cell_type": "code",
   "execution_count": 8,
   "metadata": {},
   "outputs": [
    {
     "data": {
      "text/plain": [
       "<matplotlib.legend.Legend at 0x21407b92ac0>"
      ]
     },
     "execution_count": 8,
     "metadata": {},
     "output_type": "execute_result"
    },
    {
     "data": {
      "image/png": "[encoded data removed]",
      "text/plain": [
       "<Figure size 432x288 with 1 Axes>"
      ]
     },
     "metadata": {
      "needs_background": "light"
     },
     "output_type": "display_data"
    }
   ],
   "source": [
    "# Ploteamos el area bajo la curva in sample y out sample:\n",
    "plt.plot(fprListLogisticTest, tprListLogisticTest,  label='ROC curve Logit Test (area = %0.2f)' % AUC2)\n",
    "plt.plot(fprListLogisticTrain, tprListLogisticTrain,  label='ROC curve Logit Train (area = %0.2f)' % AUC1)\n",
    "plt.plot(fprListLogisticTest, fprListLogisticTest, linestyle='--')\n",
    "plt.xlabel('False Positive Rate')\n",
    "plt.ylabel('True Positive Rate')\n",
    "plt.title('Receiver operating characteristic example')\n",
    "plt.legend(loc=\"lower right\")"
   ]
  },
  {
   "cell_type": "markdown",
   "metadata": {},
   "source": [
    "#### Grid Search\n",
    "\n",
    "El grid search es una busqueda exhaustiva del modelo que mejor optimiza una o un conjunto de métricas de performance (por ejemplo AUC, R2, MSE) sujeto a valores de hyper-parámetros especificados en una grilla para uno o múltiples estimadores. \n",
    "\n",
    "Formalmente, siguiendo esta lógica, podríamos pensar en el Grid Search como un método de optimización en el cual escogemos los parámetros $\\beta^* = \\beta(\\Omega)$, los hyper parametros $\\alpha^* = \\alpha(\\Omega)$, y la estructura del modelo $\\Omega$ que optimizan la métrica de performance en la data de testeo $\\Delta_{test}$.\n",
    "\n",
    "Modelo de predicción:\n",
    "\n",
    "\\begin{align}\n",
    "y^*_{train} & = g(\\theta^*,\\alpha^*, \\Omega | X_{train}) \\\\\n",
    "\\end{align}\n",
    "\n",
    "La métrica de performance:\n",
    "\n",
    "\\begin{align}\n",
    "\\Delta & = \\Delta(y_{test}, y^*_{test}) \\\\\n",
    "\\end{align}\n",
    "\n",
    "El problema de optimización:\n",
    "\n",
    "\\begin{align}\n",
    "\\theta^*,\\alpha^*, \\Omega = arg max_{\\{\\theta^*,\\alpha^*, \\Omega\\}} \\{ \\Delta (\\theta^*,\\alpha^*, \\Omega, | X_{test}) \\} \\\\\n",
    "\\end{align}\n",
    "\n"
   ]
  },
  {
   "cell_type": "code",
   "execution_count": 10,
   "metadata": {},
   "outputs": [],
   "source": [
    "# Generamos una funcion que obtiene X, Y y el metodo ML que deseamos utililzar ademas de la semilla aleatoria que nos permite partir el dataset\n",
    "\n",
    "def getOutOfSampleAUC(X, Y, clf, seed=0):\n",
    "\n",
    "    X_train, X_test, Y_train, Y_test = train_test_split(X, Y, test_size=0.3, random_state=seed)\n",
    "\n",
    "    clf = clf.fit(X_train[:,:2], Y_train) # Definir el problema\n",
    "    predictionScoreTrain = clf.predict_proba(X_train)[:,-1]\n",
    "    predictionScoreTest = clf.predict_proba(X_test)[:,-1]\n",
    "\n",
    "    #Prediction in sample\n",
    "    fprListTrain, tprListTrain,_ =  metrics.roc_curve(Y_train,predictionScoreTrain)\n",
    "    AUC_train = metrics.auc(fprListTrain, tprListTrain)\n",
    "\n",
    "    #Prediction out of sample\n",
    "    fprListTest, tprListTest,_ =  metrics.roc_curve(Y_test,predictionScoreTest)\n",
    "    AUC_test = metrics.auc(fprListTest, tprListTest)\n",
    "\n",
    "    return AUC_train, AUC_test\n",
    "\n",
    "\n",
    "# Cross validation:\n",
    "\n",
    "def getCrossValidation(X,Y,clf):\n",
    "\n",
    "    seedList = np.random.randint(1,1000,10)\n",
    "\n",
    "    AUC_train_list = []\n",
    "    AUC_test_list  = []\n",
    "    for seed in seedList:\n",
    "        AUC_train, AUC_test = getOutOfSampleAUC(X,Y,clf,seed)\n",
    "        AUC_train_list.append(AUC_train)\n",
    "        AUC_test_list.append(AUC_test)\n",
    "\n",
    "    AUC_Levels   = pd.DataFrame(pd.DataFrame({0:AUC_train_list,1:AUC_test_list}).unstack()).reset_index()\n",
    "    AUC_Levels['Estimator'] = clf.__class__.__name__\n",
    "\n",
    "    return AUC_Levels"
   ]
  },
  {
   "cell_type": "code",
   "execution_count": 12,
   "metadata": {},
   "outputs": [
    {
     "data": {
      "image/png": "[encoded data removed]",
      "text/plain": [
       "<Figure size 432x288 with 1 Axes>"
      ]
     },
     "metadata": {
      "needs_background": "light"
     },
     "output_type": "display_data"
    }
   ],
   "source": [
    "AUC_Levels = getCrossValidation(X,Y,clf)\n",
    "\n",
    "sns.barplot(x = 'level_0', y=0, data = AUC_Levels)\n",
    "plt.xlabel('Sub Sample')\n",
    "plt.ylabel('AUC Level')\n",
    "plt.ylim([.5,1])\n",
    "plt.title('AUC Cross Validation')\n",
    "plt.show()\n",
    "\n",
    "\n",
    "# Applying Grid Search\n",
    "modelList = [\n",
    "LogisticRegression(random_state=0),\n",
    "KNeighborsClassifier(5, weights='uniform'),\n",
    "tree.DecisionTreeClassifier(max_depth=2),\n",
    "RandomForestClassifier(max_depth=2, random_state=0)\n",
    "]"
   ]
  },
  {
   "cell_type": "code",
   "execution_count": 13,
   "metadata": {
    "scrolled": true
   },
   "outputs": [
    {
     "data": {
      "image/png": "[encoded data removed]",
      "text/plain": [
       "<Figure size 720x432 with 1 Axes>"
      ]
     },
     "metadata": {
      "needs_background": "light"
     },
     "output_type": "display_data"
    }
   ],
   "source": [
    "# Grid Search:\n",
    "\n",
    "AUC_LevelsList= []\n",
    "for clf in modelList: AUC_LevelsList.append(getCrossValidation(X,Y,clf))\n",
    "\n",
    "AUC_Levels = pd.concat(AUC_LevelsList)\n",
    "\n",
    "\n",
    "plt.figure(figsize=(10,6))\n",
    "sns.barplot(x = 'Estimator', y=0, hue='level_0', data = AUC_Levels)\n",
    "plt.xlabel('Model')\n",
    "plt.ylabel('AUC Level')\n",
    "plt.ylim([.5,1])\n",
    "plt.title('Grid Search')\n",
    "plt.show()"
   ]
  }
 ],
 "metadata": {
  "kernelspec": {
   "display_name": "Python 3",
   "language": "python",
   "name": "python3"
  },
  "language_info": {
   "codemirror_mode": {
    "name": "ipython",
    "version": 3
   },
   "file_extension": ".py",
   "mimetype": "text/x-python",
   "name": "python",
   "nbconvert_exporter": "python",
   "pygments_lexer": "ipython3",
   "version": "3.8.3"
  }
 },
 "nbformat": 4,
 "nbformat_minor": 4
}
